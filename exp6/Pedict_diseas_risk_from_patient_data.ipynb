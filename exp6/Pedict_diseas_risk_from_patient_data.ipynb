{
  "cells": [
    {
      "cell_type": "markdown",
      "metadata": {
        "id": "j_25ztvow3rE"
      },
      "source": [
        "# Build and Evaluate a Linear Risk model\n",
        "\n",
        "Welcome to the first assignment in Course 2!\n"
      ]
    },
    {
      "cell_type": "markdown",
      "metadata": {
        "id": "wmgXYg7_w3rF"
      },
      "source": [
        "## Outline\n",
        "\n",
        "- [1. Import Packages](#1)\n",
        "- [2. Load Data](#2)\n",
        "- [3. Explore the Dataset](#3)\n",
        "- [4. Mean-Normalize the Data](#4)\n",
        "    - [Exercise 1](#Ex-1)\n",
        "- [5. Build the Model](#Ex-2)\n",
        "    - [Exercise 2](#Ex-2)\n",
        "- [6. Evaluate the Model Using the C-Index](#6)\n",
        "    - [Exercise 3](#Ex-3)\n",
        "- [7. Evaluate the Model on the Test Set](#7)\n",
        "- [8. Improve the Model](#8)\n",
        "    - [Exercise 4](#Ex-4)\n",
        "- [9. Evalute the Improved Model](#9)"
      ]
    },
    {
      "cell_type": "markdown",
      "metadata": {
        "id": "DU20mFeib5Kd"
      },
      "source": [
        "## Overview of the Assignment\n",
        "\n",
        "In this assignment, you'll build a risk score model for retinopathy in diabetes patients using logistic regression.\n",
        "\n",
        "As we develop the model, we will learn about the following topics:\n",
        "\n",
        "- Data preprocessing\n",
        "  - Log transformations\n",
        "  - Standardization\n",
        "- Basic Risk Models\n",
        "  - Logistic Regression\n",
        "  - C-index\n",
        "  - Interactions Terms\n",
        "  \n",
        "### Diabetic Retinopathy\n",
        "Retinopathy is an eye condition that causes changes to the blood vessels in the part of the eye called the retina.\n",
        "This often leads to vision changes or blindness.\n",
        "Diabetic patients are known to be at high risk for retinopathy.\n",
        "    \n",
        "### Logistic Regression    \n",
        "Logistic regression is an appropriate analysis to use for predicting the probability of a binary outcome. In our case, this would be the probability of having or not having diabetic retinopathy.\n",
        "Logistic Regression is one of the most commonly used algorithms for binary classification. It is used to find the best fitting model to describe the relationship between a set of features (also referred to as input, independent, predictor, or explanatory variables) and a binary outcome label (also referred to as an output, dependent, or response variable). Logistic regression has the property that the output prediction is always in the range $[0,1]$. Sometimes this output is used to represent a probability from 0%-100%, but for straight binary classification, the output is converted to either $0$ or $1$ depending on whether it is below or above a certain threshold, usually $0.5$.\n",
        "\n",
        "It may be  confusing that the term regression appears in the name even though logistic regression is actually a classification algorithm, but that's just a name it was given for historical reasons."
      ]
    },
    {
      "cell_type": "markdown",
      "metadata": {
        "id": "bpJiVV2-w3rF"
      },
      "source": [
        "##  0. Generate Datasets"
      ]
    },
    {
      "cell_type": "code",
      "execution_count": null,
      "metadata": {
        "id": "eQuPWMchw3rG"
      },
      "outputs": [],
      "source": [
        "import numpy as np\n",
        "import pandas as pd\n",
        "import seaborn as sns\n",
        "\n",
        "\n",
        "def generate_data(n=200):\n",
        "    df = pd.DataFrame(\n",
        "        columns=['Age', 'Systolic_BP', 'Diastolic_BP', 'Cholesterol']\n",
        "    )\n",
        "    df.loc[:, 'Age'] = np.exp(np.log(60) + (1 / 7) * np.random.normal(size=n))\n",
        "    df.loc[:, ['Systolic_BP', 'Diastolic_BP', 'Cholesterol']] = np.exp(\n",
        "        np.random.multivariate_normal(\n",
        "            mean=[np.log(100), np.log(90), np.log(100)],\n",
        "            cov=(1 / 45) * np.array([\n",
        "                [0.5, 0.2, 0.2],\n",
        "                [0.2, 0.5, 0.2],\n",
        "                [0.2, 0.2, 0.5]]),\n",
        "            size=n))\n",
        "    return df\n",
        "\n",
        "\n",
        "def sigmoid(x):\n",
        "    return 1 / (1 + np.exp(-x))\n",
        "\n",
        "\n",
        "def f(x):\n",
        "    p = 0.4 * (np.log(x[0]) - np.log(60)) + 0.33 * (\n",
        "            np.log(x[1]) - np.log(100)) + 0.3 * (\n",
        "                np.log(x[3]) - np.log(100)) - 2.0 * (\n",
        "                np.log(x[0]) - np.log(60)) * (\n",
        "                np.log(x[3]) - np.log(100)) + 0.05 * np.random.logistic()\n",
        "    if p > 0.0:\n",
        "        return 1.0\n",
        "    else:\n",
        "        return 0.0\n",
        "\n",
        "\n",
        "def load_data(n=200):\n",
        "    np.random.seed(0)\n",
        "    df = generate_data(n)\n",
        "    for i in range(len(df)):\n",
        "        df.loc[i, 'y'] = f(df.loc[i, :])\n",
        "        X = df.drop('y', axis=1)\n",
        "        y = df.y\n",
        "    return X, y"
      ]
    },
    {
      "cell_type": "markdown",
      "metadata": {
        "id": "pzuRKOt1cU8B"
      },
      "source": [
        "<a name='1'></a>\n",
        "## 1.  Import Packages\n",
        "\n",
        "We'll first import all the packages that we need for this assignment.\n",
        "\n",
        "- `numpy` is the fundamental package for scientific computing in python.\n",
        "- `pandas` is what we'll use to manipulate our data.\n",
        "- `matplotlib` is a plotting library."
      ]
    },
    {
      "cell_type": "markdown",
      "metadata": {
        "id": "3J7NXuQadLnY"
      },
      "source": [
        "<a name='2'></a>\n",
        "## 2. Load Data\n",
        "\n",
        "First we will load in the dataset that we will use for training and testing our model.\n",
        "\n",
        "- Run the next cell to load the data that is stored in csv files.\n",
        "- There is a function `load_data` which randomly generates data, but for consistency, please use the data from the csv files."
      ]
    },
    {
      "cell_type": "code",
      "source": [
        "import warnings\n",
        "warnings.filterwarnings(\"ignore\")"
      ],
      "metadata": {
        "id": "cIcpKRdqxX7G"
      },
      "execution_count": null,
      "outputs": []
    },
    {
      "cell_type": "code",
      "execution_count": null,
      "metadata": {
        "id": "FN5Y5hU5yXnE"
      },
      "outputs": [],
      "source": [
        "\n",
        "\n",
        "# This function creates randomly generated data\n",
        "X, y = load_data(6000)"
      ]
    },
    {
      "cell_type": "markdown",
      "metadata": {
        "id": "5yF06E6sZMmD"
      },
      "source": [
        "`X` and `y` are Pandas DataFrames that hold the data for 6,000 diabetic patients."
      ]
    },
    {
      "cell_type": "markdown",
      "metadata": {
        "id": "zUHGaTBSw3rH"
      },
      "source": [
        "<a name='3'></a>\n",
        "##  3. Explore the Dataset\n",
        "\n",
        "The features (`X`) include the following fields:\n",
        "* Age: (years)\n",
        "* Systolic_BP: Systolic blood pressure (mmHg)\n",
        "* Diastolic_BP: Diastolic blood pressure (mmHg)\n",
        "* Cholesterol: (mg/DL)\n",
        "    \n",
        "We can use the `head()` method to display the first few records of each.    "
      ]
    },
    {
      "cell_type": "code",
      "execution_count": null,
      "metadata": {
        "colab": {
          "base_uri": "https://localhost:8080/",
          "height": 206
        },
        "id": "qp1SgI7PT024",
        "outputId": "83e6c3f4-b7e8-4e36-c424-3c572ffe9932"
      },
      "outputs": [
        {
          "output_type": "execute_result",
          "data": {
            "text/plain": [
              "         Age Systolic_BP Diastolic_BP Cholesterol\n",
              "0  77.196340   79.606869    78.027827   87.853178\n",
              "1  63.529850   110.76667    88.289254    95.17978\n",
              "2  69.003986    99.47246   105.407777  117.624365\n",
              "3  82.638210   89.290826    77.863073   94.835185\n",
              "4  78.346286   95.732701    86.459722  110.671407"
            ],
            "text/html": [
              "\n",
              "  <div id=\"df-926687d9-4b08-497c-a3f8-80375e8f00a5\" class=\"colab-df-container\">\n",
              "    <div>\n",
              "<style scoped>\n",
              "    .dataframe tbody tr th:only-of-type {\n",
              "        vertical-align: middle;\n",
              "    }\n",
              "\n",
              "    .dataframe tbody tr th {\n",
              "        vertical-align: top;\n",
              "    }\n",
              "\n",
              "    .dataframe thead th {\n",
              "        text-align: right;\n",
              "    }\n",
              "</style>\n",
              "<table border=\"1\" class=\"dataframe\">\n",
              "  <thead>\n",
              "    <tr style=\"text-align: right;\">\n",
              "      <th></th>\n",
              "      <th>Age</th>\n",
              "      <th>Systolic_BP</th>\n",
              "      <th>Diastolic_BP</th>\n",
              "      <th>Cholesterol</th>\n",
              "    </tr>\n",
              "  </thead>\n",
              "  <tbody>\n",
              "    <tr>\n",
              "      <th>0</th>\n",
              "      <td>77.196340</td>\n",
              "      <td>79.606869</td>\n",
              "      <td>78.027827</td>\n",
              "      <td>87.853178</td>\n",
              "    </tr>\n",
              "    <tr>\n",
              "      <th>1</th>\n",
              "      <td>63.529850</td>\n",
              "      <td>110.76667</td>\n",
              "      <td>88.289254</td>\n",
              "      <td>95.17978</td>\n",
              "    </tr>\n",
              "    <tr>\n",
              "      <th>2</th>\n",
              "      <td>69.003986</td>\n",
              "      <td>99.47246</td>\n",
              "      <td>105.407777</td>\n",
              "      <td>117.624365</td>\n",
              "    </tr>\n",
              "    <tr>\n",
              "      <th>3</th>\n",
              "      <td>82.638210</td>\n",
              "      <td>89.290826</td>\n",
              "      <td>77.863073</td>\n",
              "      <td>94.835185</td>\n",
              "    </tr>\n",
              "    <tr>\n",
              "      <th>4</th>\n",
              "      <td>78.346286</td>\n",
              "      <td>95.732701</td>\n",
              "      <td>86.459722</td>\n",
              "      <td>110.671407</td>\n",
              "    </tr>\n",
              "  </tbody>\n",
              "</table>\n",
              "</div>\n",
              "    <div class=\"colab-df-buttons\">\n",
              "\n",
              "  <div class=\"colab-df-container\">\n",
              "    <button class=\"colab-df-convert\" onclick=\"convertToInteractive('df-926687d9-4b08-497c-a3f8-80375e8f00a5')\"\n",
              "            title=\"Convert this dataframe to an interactive table.\"\n",
              "            style=\"display:none;\">\n",
              "\n",
              "  <svg xmlns=\"http://www.w3.org/2000/svg\" height=\"24px\" viewBox=\"0 -960 960 960\">\n",
              "    <path d=\"M120-120v-720h720v720H120Zm60-500h600v-160H180v160Zm220 220h160v-160H400v160Zm0 220h160v-160H400v160ZM180-400h160v-160H180v160Zm440 0h160v-160H620v160ZM180-180h160v-160H180v160Zm440 0h160v-160H620v160Z\"/>\n",
              "  </svg>\n",
              "    </button>\n",
              "\n",
              "  <style>\n",
              "    .colab-df-container {\n",
              "      display:flex;\n",
              "      gap: 12px;\n",
              "    }\n",
              "\n",
              "    .colab-df-convert {\n",
              "      background-color: #E8F0FE;\n",
              "      border: none;\n",
              "      border-radius: 50%;\n",
              "      cursor: pointer;\n",
              "      display: none;\n",
              "      fill: #1967D2;\n",
              "      height: 32px;\n",
              "      padding: 0 0 0 0;\n",
              "      width: 32px;\n",
              "    }\n",
              "\n",
              "    .colab-df-convert:hover {\n",
              "      background-color: #E2EBFA;\n",
              "      box-shadow: 0px 1px 2px rgba(60, 64, 67, 0.3), 0px 1px 3px 1px rgba(60, 64, 67, 0.15);\n",
              "      fill: #174EA6;\n",
              "    }\n",
              "\n",
              "    .colab-df-buttons div {\n",
              "      margin-bottom: 4px;\n",
              "    }\n",
              "\n",
              "    [theme=dark] .colab-df-convert {\n",
              "      background-color: #3B4455;\n",
              "      fill: #D2E3FC;\n",
              "    }\n",
              "\n",
              "    [theme=dark] .colab-df-convert:hover {\n",
              "      background-color: #434B5C;\n",
              "      box-shadow: 0px 1px 3px 1px rgba(0, 0, 0, 0.15);\n",
              "      filter: drop-shadow(0px 1px 2px rgba(0, 0, 0, 0.3));\n",
              "      fill: #FFFFFF;\n",
              "    }\n",
              "  </style>\n",
              "\n",
              "    <script>\n",
              "      const buttonEl =\n",
              "        document.querySelector('#df-926687d9-4b08-497c-a3f8-80375e8f00a5 button.colab-df-convert');\n",
              "      buttonEl.style.display =\n",
              "        google.colab.kernel.accessAllowed ? 'block' : 'none';\n",
              "\n",
              "      async function convertToInteractive(key) {\n",
              "        const element = document.querySelector('#df-926687d9-4b08-497c-a3f8-80375e8f00a5');\n",
              "        const dataTable =\n",
              "          await google.colab.kernel.invokeFunction('convertToInteractive',\n",
              "                                                    [key], {});\n",
              "        if (!dataTable) return;\n",
              "\n",
              "        const docLinkHtml = 'Like what you see? Visit the ' +\n",
              "          '<a target=\"_blank\" href=https://colab.research.google.com/notebooks/data_table.ipynb>data table notebook</a>'\n",
              "          + ' to learn more about interactive tables.';\n",
              "        element.innerHTML = '';\n",
              "        dataTable['output_type'] = 'display_data';\n",
              "        await google.colab.output.renderOutput(dataTable, element);\n",
              "        const docLink = document.createElement('div');\n",
              "        docLink.innerHTML = docLinkHtml;\n",
              "        element.appendChild(docLink);\n",
              "      }\n",
              "    </script>\n",
              "  </div>\n",
              "\n",
              "\n",
              "<div id=\"df-b8a8f97e-10d1-40a5-bc42-11f37fc58ded\">\n",
              "  <button class=\"colab-df-quickchart\" onclick=\"quickchart('df-b8a8f97e-10d1-40a5-bc42-11f37fc58ded')\"\n",
              "            title=\"Suggest charts\"\n",
              "            style=\"display:none;\">\n",
              "\n",
              "<svg xmlns=\"http://www.w3.org/2000/svg\" height=\"24px\"viewBox=\"0 0 24 24\"\n",
              "     width=\"24px\">\n",
              "    <g>\n",
              "        <path d=\"M19 3H5c-1.1 0-2 .9-2 2v14c0 1.1.9 2 2 2h14c1.1 0 2-.9 2-2V5c0-1.1-.9-2-2-2zM9 17H7v-7h2v7zm4 0h-2V7h2v10zm4 0h-2v-4h2v4z\"/>\n",
              "    </g>\n",
              "</svg>\n",
              "  </button>\n",
              "\n",
              "<style>\n",
              "  .colab-df-quickchart {\n",
              "      --bg-color: #E8F0FE;\n",
              "      --fill-color: #1967D2;\n",
              "      --hover-bg-color: #E2EBFA;\n",
              "      --hover-fill-color: #174EA6;\n",
              "      --disabled-fill-color: #AAA;\n",
              "      --disabled-bg-color: #DDD;\n",
              "  }\n",
              "\n",
              "  [theme=dark] .colab-df-quickchart {\n",
              "      --bg-color: #3B4455;\n",
              "      --fill-color: #D2E3FC;\n",
              "      --hover-bg-color: #434B5C;\n",
              "      --hover-fill-color: #FFFFFF;\n",
              "      --disabled-bg-color: #3B4455;\n",
              "      --disabled-fill-color: #666;\n",
              "  }\n",
              "\n",
              "  .colab-df-quickchart {\n",
              "    background-color: var(--bg-color);\n",
              "    border: none;\n",
              "    border-radius: 50%;\n",
              "    cursor: pointer;\n",
              "    display: none;\n",
              "    fill: var(--fill-color);\n",
              "    height: 32px;\n",
              "    padding: 0;\n",
              "    width: 32px;\n",
              "  }\n",
              "\n",
              "  .colab-df-quickchart:hover {\n",
              "    background-color: var(--hover-bg-color);\n",
              "    box-shadow: 0 1px 2px rgba(60, 64, 67, 0.3), 0 1px 3px 1px rgba(60, 64, 67, 0.15);\n",
              "    fill: var(--button-hover-fill-color);\n",
              "  }\n",
              "\n",
              "  .colab-df-quickchart-complete:disabled,\n",
              "  .colab-df-quickchart-complete:disabled:hover {\n",
              "    background-color: var(--disabled-bg-color);\n",
              "    fill: var(--disabled-fill-color);\n",
              "    box-shadow: none;\n",
              "  }\n",
              "\n",
              "  .colab-df-spinner {\n",
              "    border: 2px solid var(--fill-color);\n",
              "    border-color: transparent;\n",
              "    border-bottom-color: var(--fill-color);\n",
              "    animation:\n",
              "      spin 1s steps(1) infinite;\n",
              "  }\n",
              "\n",
              "  @keyframes spin {\n",
              "    0% {\n",
              "      border-color: transparent;\n",
              "      border-bottom-color: var(--fill-color);\n",
              "      border-left-color: var(--fill-color);\n",
              "    }\n",
              "    20% {\n",
              "      border-color: transparent;\n",
              "      border-left-color: var(--fill-color);\n",
              "      border-top-color: var(--fill-color);\n",
              "    }\n",
              "    30% {\n",
              "      border-color: transparent;\n",
              "      border-left-color: var(--fill-color);\n",
              "      border-top-color: var(--fill-color);\n",
              "      border-right-color: var(--fill-color);\n",
              "    }\n",
              "    40% {\n",
              "      border-color: transparent;\n",
              "      border-right-color: var(--fill-color);\n",
              "      border-top-color: var(--fill-color);\n",
              "    }\n",
              "    60% {\n",
              "      border-color: transparent;\n",
              "      border-right-color: var(--fill-color);\n",
              "    }\n",
              "    80% {\n",
              "      border-color: transparent;\n",
              "      border-right-color: var(--fill-color);\n",
              "      border-bottom-color: var(--fill-color);\n",
              "    }\n",
              "    90% {\n",
              "      border-color: transparent;\n",
              "      border-bottom-color: var(--fill-color);\n",
              "    }\n",
              "  }\n",
              "</style>\n",
              "\n",
              "  <script>\n",
              "    async function quickchart(key) {\n",
              "      const quickchartButtonEl =\n",
              "        document.querySelector('#' + key + ' button');\n",
              "      quickchartButtonEl.disabled = true;  // To prevent multiple clicks.\n",
              "      quickchartButtonEl.classList.add('colab-df-spinner');\n",
              "      try {\n",
              "        const charts = await google.colab.kernel.invokeFunction(\n",
              "            'suggestCharts', [key], {});\n",
              "      } catch (error) {\n",
              "        console.error('Error during call to suggestCharts:', error);\n",
              "      }\n",
              "      quickchartButtonEl.classList.remove('colab-df-spinner');\n",
              "      quickchartButtonEl.classList.add('colab-df-quickchart-complete');\n",
              "    }\n",
              "    (() => {\n",
              "      let quickchartButtonEl =\n",
              "        document.querySelector('#df-b8a8f97e-10d1-40a5-bc42-11f37fc58ded button');\n",
              "      quickchartButtonEl.style.display =\n",
              "        google.colab.kernel.accessAllowed ? 'block' : 'none';\n",
              "    })();\n",
              "  </script>\n",
              "</div>\n",
              "\n",
              "    </div>\n",
              "  </div>\n"
            ],
            "application/vnd.google.colaboratory.intrinsic+json": {
              "type": "dataframe",
              "variable_name": "X",
              "summary": "{\n  \"name\": \"X\",\n  \"rows\": 6000,\n  \"fields\": [\n    {\n      \"column\": \"Age\",\n      \"properties\": {\n        \"dtype\": \"number\",\n        \"std\": 8.56439223075399,\n        \"min\": 35.16476092544677,\n        \"max\": 103.27949724529527,\n        \"num_unique_values\": 6000,\n        \"samples\": [\n          47.560988544668255,\n          56.66079133908024,\n          57.10653704530141\n        ],\n        \"semantic_type\": \"\",\n        \"description\": \"\"\n      }\n    },\n    {\n      \"column\": \"Systolic_BP\",\n      \"properties\": {\n        \"dtype\": \"date\",\n        \"min\": 66.47178410657455,\n        \"max\": 145.56465456422006,\n        \"num_unique_values\": 6000,\n        \"samples\": [\n          107.64252528606136,\n          113.60244214770296,\n          90.51596021705436\n        ],\n        \"semantic_type\": \"\",\n        \"description\": \"\"\n      }\n    },\n    {\n      \"column\": \"Diastolic_BP\",\n      \"properties\": {\n        \"dtype\": \"date\",\n        \"min\": 61.62439849131408,\n        \"max\": 133.41918961426057,\n        \"num_unique_values\": 6000,\n        \"samples\": [\n          88.22624774238291,\n          110.62091120918222,\n          79.39187260533865\n        ],\n        \"semantic_type\": \"\",\n        \"description\": \"\"\n      }\n    },\n    {\n      \"column\": \"Cholesterol\",\n      \"properties\": {\n        \"dtype\": \"date\",\n        \"min\": 68.39553794344754,\n        \"max\": 151.748727018984,\n        \"num_unique_values\": 6000,\n        \"samples\": [\n          98.54820989693083,\n          121.1180880199788,\n          103.33464820318015\n        ],\n        \"semantic_type\": \"\",\n        \"description\": \"\"\n      }\n    }\n  ]\n}"
            }
          },
          "metadata": {},
          "execution_count": 11
        }
      ],
      "source": [
        "X.head()"
      ]
    },
    {
      "cell_type": "markdown",
      "metadata": {
        "id": "Q0o8DaDayXnM"
      },
      "source": [
        "The target (`y`) is an indicator of whether or not the patient developed retinopathy.\n",
        "\n",
        "* y = 1 : patient has retinopathy.\n",
        "* y = 0 : patient does not have retinopathy."
      ]
    },
    {
      "cell_type": "code",
      "execution_count": null,
      "metadata": {
        "colab": {
          "base_uri": "https://localhost:8080/",
          "height": 240
        },
        "id": "2d6L8BHO3-QJ",
        "outputId": "9adb684e-05b4-443e-c553-0e59667590d5"
      },
      "outputs": [
        {
          "output_type": "execute_result",
          "data": {
            "text/plain": [
              "0    1.0\n",
              "1    1.0\n",
              "2    1.0\n",
              "3    1.0\n",
              "4    1.0\n",
              "Name: y, dtype: float64"
            ],
            "text/html": [
              "<div>\n",
              "<style scoped>\n",
              "    .dataframe tbody tr th:only-of-type {\n",
              "        vertical-align: middle;\n",
              "    }\n",
              "\n",
              "    .dataframe tbody tr th {\n",
              "        vertical-align: top;\n",
              "    }\n",
              "\n",
              "    .dataframe thead th {\n",
              "        text-align: right;\n",
              "    }\n",
              "</style>\n",
              "<table border=\"1\" class=\"dataframe\">\n",
              "  <thead>\n",
              "    <tr style=\"text-align: right;\">\n",
              "      <th></th>\n",
              "      <th>y</th>\n",
              "    </tr>\n",
              "  </thead>\n",
              "  <tbody>\n",
              "    <tr>\n",
              "      <th>0</th>\n",
              "      <td>1.0</td>\n",
              "    </tr>\n",
              "    <tr>\n",
              "      <th>1</th>\n",
              "      <td>1.0</td>\n",
              "    </tr>\n",
              "    <tr>\n",
              "      <th>2</th>\n",
              "      <td>1.0</td>\n",
              "    </tr>\n",
              "    <tr>\n",
              "      <th>3</th>\n",
              "      <td>1.0</td>\n",
              "    </tr>\n",
              "    <tr>\n",
              "      <th>4</th>\n",
              "      <td>1.0</td>\n",
              "    </tr>\n",
              "  </tbody>\n",
              "</table>\n",
              "</div><br><label><b>dtype:</b> float64</label>"
            ]
          },
          "metadata": {},
          "execution_count": 12
        }
      ],
      "source": [
        "y.head()"
      ]
    },
    {
      "cell_type": "markdown",
      "metadata": {
        "id": "DAobb_-hFtAn"
      },
      "source": [
        "Before we build a model, let's take a closer look at the distribution of our training data. To do this, we will split the data into train and test sets using a 75/25 split.\n",
        "\n",
        "For this, we can use the built in function provided by sklearn library.  See the documentation for [sklearn.model_selection.train_test_split](https://scikit-learn.org/stable/modules/generated/sklearn.model_selection.train_test_split.html)."
      ]
    },
    {
      "cell_type": "code",
      "execution_count": null,
      "metadata": {
        "id": "C9FxG6hDyXnQ"
      },
      "outputs": [],
      "source": [
        "from sklearn.model_selection import train_test_split"
      ]
    },
    {
      "cell_type": "code",
      "execution_count": null,
      "metadata": {
        "id": "1fvqevMtFsHh"
      },
      "outputs": [],
      "source": [
        "X_train_raw, X_test_raw, y_train, y_test = train_test_split(X, y, train_size=0.75, random_state=0)"
      ]
    },
    {
      "cell_type": "markdown",
      "metadata": {
        "id": "nYgcS0vjdbpc"
      },
      "source": [
        "Plot the histograms of each column of `X_train` below:"
      ]
    },
    {
      "cell_type": "code",
      "execution_count": null,
      "metadata": {
        "colab": {
          "base_uri": "https://localhost:8080/",
          "height": 1000
        },
        "id": "EBckdYHyUudi",
        "outputId": "24dd9d76-4913-4ae1-c5a3-44ae9bc2707e"
      },
      "outputs": [
        {
          "output_type": "display_data",
          "data": {
            "text/plain": [
              "<Figure size 640x480 with 1 Axes>"
            ],
            "image/png": "[encoded data removed]"
          },
          "metadata": {}
        },
        {
          "output_type": "display_data",
          "data": {
            "text/plain": [
              "<Figure size 640x480 with 1 Axes>"
            ],
            "image/png": "[encoded data removed]"
          },
          "metadata": {}
        },
        {
          "output_type": "display_data",
          "data": {
            "text/plain": [
              "<Figure size 640x480 with 1 Axes>"
            ],
            "image/png": "[encoded data removed]"
          },
          "metadata": {}
        },
        {
          "output_type": "display_data",
          "data": {
            "text/plain": [
              "<Figure size 640x480 with 1 Axes>"
            ],
            "image/png": "[encoded data removed]"
          },
          "metadata": {}
        }
      ],
      "source": [
        "for col in X.columns:\n",
        "    X_train_raw.loc[:, col].hist()\n",
        "    plt.title(col)\n",
        "    plt.show()"
      ]
    },
    {
      "cell_type": "markdown",
      "metadata": {
        "id": "wG76eQNnw3rI"
      },
      "source": [
        "As we can see, the distributions have a generally bell shaped distribution, but with slight rightward skew.\n",
        "\n",
        "Many statistical models assume that the data is normally distributed, forming a symmetric Gaussian bell shape (with no skew) more like the example below."
      ]
    },
    {
      "cell_type": "code",
      "execution_count": null,
      "metadata": {
        "colab": {
          "base_uri": "https://localhost:8080/",
          "height": 452
        },
        "id": "mIAmZlwgw3rJ",
        "outputId": "d3e2364e-a004-4423-c8d8-10a2c27a3501"
      },
      "outputs": [
        {
          "output_type": "display_data",
          "data": {
            "text/plain": [
              "<Figure size 640x480 with 1 Axes>"
            ],
            "image/png": "[encoded data removed]"
          },
          "metadata": {}
        }
      ],
      "source": [
        "import matplotlib.pyplot as plt\n",
        "from scipy.stats import norm\n",
        "data = np.random.normal(50,12, 5000)\n",
        "fitting_params = norm.fit(data)\n",
        "norm_dist_fitted = norm(*fitting_params)\n",
        "t = np.linspace(0,100, 100)\n",
        "plt.hist(data, bins=60, density=True)\n",
        "plt.plot(t, norm_dist_fitted.pdf(t))\n",
        "plt.title('Example of Normally Distributed Data')\n",
        "plt.show()"
      ]
    },
    {
      "cell_type": "markdown",
      "metadata": {
        "id": "jhZ3UKs3U-FG"
      },
      "source": [
        "We can transform our data to be closer to a normal distribution by removing the skew. One way to remove the skew is by applying the log function to the data.\n",
        "\n",
        "Let's plot the log of the feature variables to see that it produces the desired effect."
      ]
    },
    {
      "cell_type": "code",
      "source": [],
      "metadata": {
        "colab": {
          "base_uri": "https://localhost:8080/"
        },
        "id": "UyEY0UluyBFR",
        "outputId": "fc5134bd-7564-4a60-ddf9-6fe0686baf75"
      },
      "execution_count": null,
      "outputs": [
        {
          "output_type": "execute_result",
          "data": {
            "text/plain": [
              "array([4.67282883, 4.60517019, 4.51085951, ..., 4.58496748, 4.68213123,\n",
              "       4.63472899])"
            ]
          },
          "metadata": {},
          "execution_count": 36
        }
      ]
    },
    {
      "cell_type": "code",
      "source": [
        "X_train_raw.loc[:, col].apply(int).apply(np.log)"
      ],
      "metadata": {
        "colab": {
          "base_uri": "https://localhost:8080/",
          "height": 458
        },
        "id": "yWFCNUBhyWbC",
        "outputId": "48d57691-ed3c-4e51-b846-0d7f22f62e6e"
      },
      "execution_count": null,
      "outputs": [
        {
          "output_type": "execute_result",
          "data": {
            "text/plain": [
              "1824    4.672829\n",
              "253     4.605170\n",
              "1114    4.510860\n",
              "3220    4.356709\n",
              "2108    4.564348\n",
              "          ...   \n",
              "4931    4.488636\n",
              "3264    4.605170\n",
              "1653    4.584967\n",
              "2607    4.682131\n",
              "2732    4.634729\n",
              "Name: Systolic_BP, Length: 4500, dtype: float64"
            ],
            "text/html": [
              "<div>\n",
              "<style scoped>\n",
              "    .dataframe tbody tr th:only-of-type {\n",
              "        vertical-align: middle;\n",
              "    }\n",
              "\n",
              "    .dataframe tbody tr th {\n",
              "        vertical-align: top;\n",
              "    }\n",
              "\n",
              "    .dataframe thead th {\n",
              "        text-align: right;\n",
              "    }\n",
              "</style>\n",
              "<table border=\"1\" class=\"dataframe\">\n",
              "  <thead>\n",
              "    <tr style=\"text-align: right;\">\n",
              "      <th></th>\n",
              "      <th>Systolic_BP</th>\n",
              "    </tr>\n",
              "  </thead>\n",
              "  <tbody>\n",
              "    <tr>\n",
              "      <th>1824</th>\n",
              "      <td>4.672829</td>\n",
              "    </tr>\n",
              "    <tr>\n",
              "      <th>253</th>\n",
              "      <td>4.605170</td>\n",
              "    </tr>\n",
              "    <tr>\n",
              "      <th>1114</th>\n",
              "      <td>4.510860</td>\n",
              "    </tr>\n",
              "    <tr>\n",
              "      <th>3220</th>\n",
              "      <td>4.356709</td>\n",
              "    </tr>\n",
              "    <tr>\n",
              "      <th>2108</th>\n",
              "      <td>4.564348</td>\n",
              "    </tr>\n",
              "    <tr>\n",
              "      <th>...</th>\n",
              "      <td>...</td>\n",
              "    </tr>\n",
              "    <tr>\n",
              "      <th>4931</th>\n",
              "      <td>4.488636</td>\n",
              "    </tr>\n",
              "    <tr>\n",
              "      <th>3264</th>\n",
              "      <td>4.605170</td>\n",
              "    </tr>\n",
              "    <tr>\n",
              "      <th>1653</th>\n",
              "      <td>4.584967</td>\n",
              "    </tr>\n",
              "    <tr>\n",
              "      <th>2607</th>\n",
              "      <td>4.682131</td>\n",
              "    </tr>\n",
              "    <tr>\n",
              "      <th>2732</th>\n",
              "      <td>4.634729</td>\n",
              "    </tr>\n",
              "  </tbody>\n",
              "</table>\n",
              "<p>4500 rows × 1 columns</p>\n",
              "</div><br><label><b>dtype:</b> float64</label>"
            ]
          },
          "metadata": {},
          "execution_count": 42
        }
      ]
    },
    {
      "cell_type": "code",
      "execution_count": null,
      "metadata": {
        "colab": {
          "base_uri": "https://localhost:8080/",
          "height": 1000
        },
        "id": "r3fiFAipU9nm",
        "outputId": "e616de95-d5b5-4891-f4fb-2198a1096f75"
      },
      "outputs": [
        {
          "output_type": "display_data",
          "data": {
            "text/plain": [
              "<Figure size 640x480 with 1 Axes>"
            ],
            "image/png": "[encoded data removed]"
          },
          "metadata": {}
        },
        {
          "output_type": "display_data",
          "data": {
            "text/plain": [
              "<Figure size 640x480 with 1 Axes>"
            ],
            "image/png": "[encoded data removed]"
          },
          "metadata": {}
        },
        {
          "output_type": "display_data",
          "data": {
            "text/plain": [
              "<Figure size 640x480 with 1 Axes>"
            ],
            "image/png": "[encoded data removed]"
          },
          "metadata": {}
        },
        {
          "output_type": "display_data",
          "data": {
            "text/plain": [
              "<Figure size 640x480 with 1 Axes>"
            ],
            "image/png": "[encoded data removed]"
          },
          "metadata": {}
        }
      ],
      "source": [
        "for col in X_train_raw.columns:\n",
        "    X_train_raw.loc[:, col].apply(int).apply(np.log).hist()\n",
        "    plt.title(col)\n",
        "    plt.show()"
      ]
    },
    {
      "cell_type": "markdown",
      "metadata": {
        "id": "84vqBnYZT80j"
      },
      "source": [
        "We can see that the data is more symmetric after taking the log."
      ]
    },
    {
      "cell_type": "markdown",
      "metadata": {
        "id": "gnj1zUmaG94h"
      },
      "source": [
        "<a name='4'></a>\n",
        "## 4. Mean-Normalize the Data\n",
        "\n",
        "Let's now transform our data so that the distributions are closer to standard normal distributions.\n",
        "\n",
        "First we will remove some of the skew from the distribution by using the log transformation.\n",
        "Then we will \"standardize\" the distribution so that it has a mean of zero and standard deviation of 1. Recall that a standard normal distribution has mean of zero and standard deviation of 1.\n"
      ]
    },
    {
      "cell_type": "markdown",
      "metadata": {
        "id": "Dgv7HfI7w3rJ"
      },
      "source": [
        "\n",
        "* Write a function that first removes some of the skew in the data, and then standardizes the distribution so that for each data point $x$,\n",
        "$$\\overline{x} = \\frac{x - mean(x)}{std(x)}$$\n",
        "* Keep in mind that we want to pretend that the test data is \"unseen\" data.\n",
        "    * This implies that it is unavailable to us for the purpose of preparing our data, and so we do not want to consider it when evaluating the mean and standard deviation that we use in the above equation. Instead we want to calculate these values using the training data alone, but then use them for standardizing both the training and the test data.\n",
        "    * For a further discussion on the topic, see this article [\"Why do we need to re-use training parameters to transform test data\"](https://sebastianraschka.com/faq/docs/scale-training-test.html)."
      ]
    },
    {
      "cell_type": "markdown",
      "metadata": {
        "id": "k1aWRVHow3rJ"
      },
      "source": [
        "#### Note\n",
        "- For the sample standard deviation, please calculate the unbiased estimator:\n",
        "$$s = \\sqrt{\\frac{\\sum_{i=1}^n(x_{i} - \\bar{x})^2}{n-1}}$$\n",
        "- In other words, if you numpy, set the degrees of freedom `ddof` to 1.\n",
        "- For pandas, the default `ddof` is already set to 1."
      ]
    },
    {
      "cell_type": "markdown",
      "metadata": {
        "id": "aIXy5C49w3rJ"
      },
      "source": [
        "<details>    \n",
        "<summary>\n",
        "    <font size=\"3\" color=\"darkgreen\"><b>Hints</b></font>\n",
        "</summary>\n",
        "<p>\n",
        "    <ul>\n",
        "        <li> When working with Pandas DataFrames, you can use the aggregation functions <code>mean</code> and <code>std</code> functions. Note that in order to apply an aggregation function separately for each row or each column, you'll set the axis parameter to either <code>0</code> or <code>1</code>. One produces the aggregation along columns and the other along rows, but it is easy to get them confused. So experiment with each option below to see which one you should use to get an average for each column in the dataframe.\n",
        "<code>\n",
        "avg = df.mean(axis=0)\n",
        "avg = df.mean(axis=1)\n",
        "</code>\n",
        "        </li>\n",
        "        <br></br>\n",
        "    <li>Remember to use <b>training</b> data statistics when standardizing both the training and the test data.</li>\n",
        "    </ul>\n",
        "</p>\n",
        "</details>"
      ]
    },
    {
      "cell_type": "code",
      "execution_count": null,
      "metadata": {
        "id": "wwqPOiZGRfhv"
      },
      "outputs": [],
      "source": [
        "# UNQ_C1 (UNIQUE CELL IDENTIFIER, DO NOT EDIT)\n",
        "def make_standard_normal(df_train, df_test):\n",
        "    \"\"\"\n",
        "    In order to make the data closer to a normal distribution, take log\n",
        "    transforms to reduce the skew.\n",
        "    Then standardize the distribution with a mean of zero and standard deviation of 1.\n",
        "\n",
        "    Args:\n",
        "      df_train (dataframe): unnormalized training data.\n",
        "      df_test (dataframe): unnormalized test data.\n",
        "\n",
        "    Returns:\n",
        "      df_train_normalized (dateframe): normalized training data.\n",
        "      df_test_normalized (dataframe): normalized test data.\n",
        "    \"\"\"\n",
        "\n",
        "    ### START CODE HERE (REPLACE INSTANCES OF 'None' with your code) ###\n",
        "    # Remove skew by applying the log function to the train set, and to the test set\n",
        "    df_train_unskewed = df_train\n",
        "    df_test_unskewed = df_test\n",
        "\n",
        "    #calculate the mean and standard deviation of the training set\n",
        "    mean = df_train_unskewed.mean(axis=0)\n",
        "    stdev = df_train_unskewed.std(axis=0)\n",
        "\n",
        "    # standardize the training set\n",
        "    df_train_standardized = (df_train_unskewed - mean) / stdev\n",
        "\n",
        "    # standardize the test set (see instructions and hints above)\n",
        "    df_test_standardized = (df_test_unskewed - mean) / stdev\n",
        "\n",
        "    ### END CODE HERE ###\n",
        "    return df_train_standardized, df_test_standardized"
      ]
    },
    {
      "cell_type": "markdown",
      "metadata": {
        "id": "9ohs6TqjUEHU"
      },
      "source": [
        "#### Test Your Work"
      ]
    },
    {
      "cell_type": "code",
      "execution_count": null,
      "metadata": {
        "colab": {
          "base_uri": "https://localhost:8080/"
        },
        "id": "YqNfZ9ZBw3rK",
        "outputId": "2a2697ec-def2-49e8-de97-d8a6a5fd2e0b"
      },
      "outputs": [
        {
          "output_type": "stream",
          "name": "stdout",
          "text": [
            "Training set transformed field1 has mean 0.0000 and standard deviation 1.0000 \n",
            "Test set transformed, field1 has mean 0.0676 and standard deviation 0.9580\n",
            "Skew of training set field1 before transformation: 1.6523\n",
            "Skew of training set field1 after transformation: 1.6523\n",
            "Skew of test set field1 before transformation: 1.3896\n",
            "Skew of test set field1 after transformation: 1.3896\n"
          ]
        }
      ],
      "source": [
        "# test\n",
        "tmp_train = pd.DataFrame({'field1': [1,2,10], 'field2': [4,5,11]})\n",
        "tmp_test = pd.DataFrame({'field1': [1,3,10], 'field2': [4,6,11]})\n",
        "tmp_train_transformed, tmp_test_transformed = make_standard_normal(tmp_train,tmp_test)\n",
        "\n",
        "print(f\"Training set transformed field1 has mean {tmp_train_transformed['field1'].mean(axis=0):.4f} and standard deviation {tmp_train_transformed['field1'].std(axis=0):.4f} \")\n",
        "print(f\"Test set transformed, field1 has mean {tmp_test_transformed['field1'].mean(axis=0):.4f} and standard deviation {tmp_test_transformed['field1'].std(axis=0):.4f}\")\n",
        "print(f\"Skew of training set field1 before transformation: {tmp_train['field1'].skew(axis=0):.4f}\")\n",
        "print(f\"Skew of training set field1 after transformation: {tmp_train_transformed['field1'].skew(axis=0):.4f}\")\n",
        "print(f\"Skew of test set field1 before transformation: {tmp_test['field1'].skew(axis=0):.4f}\")\n",
        "print(f\"Skew of test set field1 after transformation: {tmp_test_transformed['field1'].skew(axis=0):.4f}\")"
      ]
    },
    {
      "cell_type": "markdown",
      "metadata": {
        "id": "XpqHiFfwyXne"
      },
      "source": [
        "#### Expected Output:\n",
        "```CPP\n",
        "Training set transformed field1 has mean -0.0000 and standard deviation 1.0000\n",
        "Test set transformed, field1 has mean 0.1144 and standard deviation 0.9749\n",
        "Skew of training set field1 before transformation: 1.6523\n",
        "Skew of training set field1 after transformation: 1.0857\n",
        "Skew of test set field1 before transformation: 1.3896\n",
        "Skew of test set field1 after transformation: 0.1371\n",
        "```"
      ]
    },
    {
      "cell_type": "markdown",
      "metadata": {
        "id": "gran7yoORxQ9"
      },
      "source": [
        "#### Transform training and test data\n",
        "Use the function that you just implemented to make the data distribution closer to a standard normal distribution."
      ]
    },
    {
      "cell_type": "code",
      "execution_count": null,
      "metadata": {
        "id": "DDC2ThP_K3Ea"
      },
      "outputs": [],
      "source": [
        "X_train, X_test = make_standard_normal(X_train_raw, X_test_raw)"
      ]
    },
    {
      "cell_type": "markdown",
      "metadata": {
        "id": "TnmdKuXDyXnk"
      },
      "source": [
        "After transforming the training and test sets, we'll expect the training set to be centered at zero with a standard deviation of $1$.\n",
        "\n",
        "We will avoid observing the test set during model training in order to avoid biasing the model training process, but let's have a look at the distributions of the transformed training data."
      ]
    },
    {
      "cell_type": "code",
      "execution_count": null,
      "metadata": {
        "colab": {
          "base_uri": "https://localhost:8080/",
          "height": 1000
        },
        "id": "WUYtMPVyyXnk",
        "outputId": "272ecde4-52d1-45a0-baa8-4781b4c7b466"
      },
      "outputs": [
        {
          "output_type": "display_data",
          "data": {
            "text/plain": [
              "<Figure size 640x480 with 1 Axes>"
            ],
            "image/png": "[encoded data removed]"
          },
          "metadata": {}
        },
        {
          "output_type": "display_data",
          "data": {
            "text/plain": [
              "<Figure size 640x480 with 1 Axes>"
            ],
            "image/png": "[encoded data removed]"
          },
          "metadata": {}
        },
        {
          "output_type": "display_data",
          "data": {
            "text/plain": [
              "<Figure size 640x480 with 1 Axes>"
            ],
            "image/png": "[encoded data removed]"
          },
          "metadata": {}
        },
        {
          "output_type": "display_data",
          "data": {
            "text/plain": [
              "<Figure size 640x480 with 1 Axes>"
            ],
            "image/png": "[encoded data removed]"
          },
          "metadata": {}
        }
      ],
      "source": [
        "for col in X_train.columns:\n",
        "    X_train[col].hist()\n",
        "    plt.title(col)\n",
        "    plt.show()"
      ]
    },
    {
      "cell_type": "markdown",
      "metadata": {
        "id": "ovLMYBz6dteZ"
      },
      "source": [
        "<a name='5'></a>\n",
        "## 5. Build the Model\n",
        "\n",
        "Now we are ready to build the risk model by training logistic regression with our data.\n"
      ]
    },
    {
      "cell_type": "markdown",
      "metadata": {
        "id": "tuFJ6CDBw3rK"
      },
      "source": [
        "<a name='Ex-2'></a>\n",
        "### Exercise 2\n",
        "\n",
        "* Implement the `lr_model` function to build a model using logistic regression with the `LogisticRegression` class from `sklearn`.\n",
        "* See the documentation for [sklearn.linear_model.LogisticRegression](https://scikit-learn.org/stable/modules/generated/sklearn.linear_model.LogisticRegression.html#sklearn.linear_model.LogisticRegression.fit)."
      ]
    },
    {
      "cell_type": "markdown",
      "metadata": {
        "id": "GbnHgjpUw3rK"
      },
      "source": [
        "<details>    \n",
        "<summary>\n",
        "    <font size=\"3\" color=\"darkgreen\"><b>Hints</b></font>\n",
        "</summary>\n",
        "<p>\n",
        "    <ul>\n",
        "        <li>You can leave all the parameters to their default values when constructing an instance of the <code>sklearn.linear_model.LogisticRegression</code> class. If you get a warning message regarding the <code>solver</code> parameter, however, you may want to specify that particular one explicitly with <code>solver='lbfgs'</code>.\n",
        "        </li>\n",
        "        <br></br>\n",
        "    </ul>\n",
        "</p>\n",
        "</details>"
      ]
    },
    {
      "cell_type": "code",
      "execution_count": null,
      "metadata": {
        "id": "iLvr0IgoyXnz"
      },
      "outputs": [],
      "source": [
        "# UNQ_C2 (UNIQUE CELL IDENTIFIER, DO NOT EDIT)\n",
        "def lr_model(X_train, y_train):\n",
        "\n",
        "    ### START CODE HERE (REPLACE INSTANCES OF 'None' with your code) ###\n",
        "    # import the LogisticRegression class\n",
        "    from sklearn.linear_model import LogisticRegression\n",
        "\n",
        "    # create the model object\n",
        "    model = LogisticRegression()\n",
        "\n",
        "    # fit the model to the training data\n",
        "    model.fit(X_train, y_train)\n",
        "\n",
        "    ### END CODE HERE ###\n",
        "    #return the fitted model\n",
        "    return model"
      ]
    },
    {
      "cell_type": "markdown",
      "metadata": {
        "id": "MFA1hDOIw3rN"
      },
      "source": [
        "#### Test Your Work\n",
        "\n",
        "Note: the `predict` method returns the model prediction *after* converting it from a value in the $[0,1]$ range to a $0$ or $1$ depending on whether it is below or above $0.5$."
      ]
    },
    {
      "cell_type": "code",
      "execution_count": null,
      "metadata": {
        "colab": {
          "base_uri": "https://localhost:8080/"
        },
        "id": "9Fr-HA-TyXnv",
        "outputId": "8222a241-84d1-493b-c1cc-9e484dcce120"
      },
      "outputs": [
        {
          "output_type": "stream",
          "name": "stdout",
          "text": [
            "[1.]\n",
            "[1.]\n"
          ]
        }
      ],
      "source": [
        "# Test\n",
        "tmp_model = lr_model(X_train[0:3], y_train[0:3] )\n",
        "print(tmp_model.predict(X_train[4:5]))\n",
        "print(tmp_model.predict(X_train[5:6]))"
      ]
    },
    {
      "cell_type": "markdown",
      "metadata": {
        "id": "LpafSX3tyXny"
      },
      "source": [
        "#### Expected Output:\n",
        "```CPP\n",
        "[1.]\n",
        "[1.]\n",
        "```"
      ]
    },
    {
      "cell_type": "markdown",
      "metadata": {
        "id": "FhuY1GjlyXn1"
      },
      "source": [
        "Now that we've tested our model, we can go ahead and build it. Note that the `lr_model` function also fits  the model to the training data."
      ]
    },
    {
      "cell_type": "code",
      "execution_count": null,
      "metadata": {
        "id": "sG6nr4hCyXn2"
      },
      "outputs": [],
      "source": [
        "model_X = lr_model(X_train, y_train)"
      ]
    },
    {
      "cell_type": "markdown",
      "metadata": {
        "id": "YI34GRSgeAaL"
      },
      "source": [
        "<a name='6'></a>\n",
        "## 6. Evaluate the Model Using the C-index\n",
        "\n",
        "Now that we have a model, we need to evaluate it. We'll do this using the c-index.\n",
        "* The c-index measures the discriminatory power of a risk score.\n",
        "* Intuitively, a higher c-index indicates that the model's prediction is in agreement with the actual outcomes of a pair of patients.\n",
        "* The formula for the c-index is\n",
        "\n",
        "$$ \\mbox{cindex} = \\frac{\\mbox{concordant} + 0.5 \\times \\mbox{ties}}{\\mbox{permissible}} $$\n",
        "\n",
        "* A permissible pair is a pair of patients who have different outcomes.\n",
        "* A concordant pair is a permissible pair in which the patient with the higher risk score also has the worse outcome.\n",
        "* A tie is a permissible pair where the patients have the same risk score.\n"
      ]
    },
    {
      "cell_type": "markdown",
      "metadata": {
        "id": "uO-_11B5w3rO"
      },
      "source": [
        "<a name='Ex-3'></a>\n",
        "### Exercise 3\n",
        "\n",
        "* Implement the `cindex` function to compute c-index.\n",
        "* `y_true` is the array of actual patient outcomes, 0 if the patient does not eventually get the disease, and 1 if the patient eventually gets the disease.\n",
        "* `scores` is the risk score of each patient.  These provide relative measures of risk, so they can be any real numbers. By convention, they are always non-negative.\n",
        "* Here is an example of input data and how to interpret it:\n",
        "```Python\n",
        "y_true = [0,1]\n",
        "scores = [0.45, 1.25]\n",
        "```\n",
        "    * There are two patients. Index 0 of each array is associated with patient 0.  Index 1 is associated with patient 1.\n",
        "    * Patient 0 does not have the disease in the future (`y_true` is 0), and based on past information, has a risk score of 0.45.\n",
        "    * Patient 1 has the disease at some point in the future (`y_true` is 1), and based on past information, has a risk score of 1.25."
      ]
    },
    {
      "cell_type": "code",
      "execution_count": null,
      "metadata": {
        "id": "a6fzYxG0R7Sp"
      },
      "outputs": [],
      "source": [
        "# UNQ_C3 (UNIQUE CELL IDENTIFIER, DO NOT EDIT)\n",
        "def cindex(y_true, scores):\n",
        "    '''\n",
        "\n",
        "    Input:\n",
        "    y_true (np.array): a 1-D array of true binary outcomes (values of zero or one)\n",
        "        0: patient does not get the disease\n",
        "        1: patient does get the disease\n",
        "    scores (np.array): a 1-D array of corresponding risk scores output by the model\n",
        "\n",
        "    Output:\n",
        "    c_index (float): (concordant pairs + 0.5*ties) / number of permissible pairs\n",
        "    '''\n",
        "    n = len(y_true)\n",
        "    assert len(scores) == n\n",
        "\n",
        "    concordant = 0\n",
        "    permissible = 0\n",
        "    ties = 0\n",
        "\n",
        "    ### START CODE HERE (REPLACE INSTANCES OF 'None' with your code) ###\n",
        "    # use two nested for loops to go through all unique pairs of patients\n",
        "    for i in range(n):\n",
        "        for j in range(i+1, n): #choose the range of j so that j>i\n",
        "\n",
        "            # Check if the pair is permissible (the patient outcomes are different)\n",
        "            if y_true[i] != y_true[j]:\n",
        "                # Count the pair if it's permissible\n",
        "                permissible += 1\n",
        "\n",
        "                # For permissible pairs, check if they are concordant or are ties\n",
        "\n",
        "                # check for ties in the score\n",
        "                if scores[i] == scores[j]:\n",
        "                    # count the tie\n",
        "                    ties += 1\n",
        "                    # if it's a tie, we don't need to check patient outcomes, continue to the top of the for loop.\n",
        "                    continue\n",
        "\n",
        "                # case 1: patient i doesn't get the disease, patient j does\n",
        "                if y_true[i] == 0 and y_true[j] == 1:\n",
        "                    # Check if patient i has a lower risk score than patient j\n",
        "                    if scores[i] < scores[j]:\n",
        "                        # count the concordant pair\n",
        "                        concordant += 1\n",
        "                    # Otherwise if patient i has a higher risk score, it's not a concordant pair.\n",
        "                    # Already checked for ties earlier\n",
        "\n",
        "                # case 2: patient i gets the disease, patient j does not\n",
        "                if y_true[i] == 1 and y_true[j] == 0:\n",
        "                    # Check if patient i has a higher risk score than patient j\n",
        "                    if scores[i] > scores[j]:\n",
        "                        #count the concordant pair\n",
        "                        concordant += 1\n",
        "                    # Otherwise if patient i has a lower risk score, it's not a concordant pair.\n",
        "                    # We already checked for ties earlier\n",
        "\n",
        "    # calculate the c-index using the count of permissible pairs, concordant pairs, and tied pairs.\n",
        "    c_index = (concordant + 0.5 * ties) / permissible\n",
        "    ### END CODE HERE ###\n",
        "\n",
        "    return c_index"
      ]
    },
    {
      "cell_type": "markdown",
      "metadata": {
        "id": "b5l0kdOkUO_Y"
      },
      "source": [
        "#### Test Your Work\n",
        "\n",
        "You can use the following test cases to make sure your implementation is correct."
      ]
    },
    {
      "cell_type": "code",
      "execution_count": null,
      "metadata": {
        "colab": {
          "base_uri": "https://localhost:8080/"
        },
        "id": "CzmPPfVQN8ET",
        "outputId": "eab06d33-1078-4d92-c3b8-63d5317d37d7"
      },
      "outputs": [
        {
          "output_type": "stream",
          "name": "stdout",
          "text": [
            "Case 1 Output: 0.0\n",
            "Case 2 Output: 1.0\n",
            "Case 3 Output: 0.875\n"
          ]
        },
        {
          "output_type": "execute_result",
          "data": {
            "text/plain": [
              "0.875"
            ]
          },
          "metadata": {},
          "execution_count": 58
        }
      ],
      "source": [
        "# test\n",
        "y_true = np.array([1.0, 0.0, 0.0, 1.0])\n",
        "\n",
        "# Case 1\n",
        "scores = np.array([0, 1, 1, 0])\n",
        "print('Case 1 Output: {}'.format(cindex(y_true, scores)))\n",
        "\n",
        "# Case 2\n",
        "scores = np.array([1, 0, 0, 1])\n",
        "print('Case 2 Output: {}'.format(cindex(y_true, scores)))\n",
        "\n",
        "# Case 3\n",
        "scores = np.array([0.5, 0.5, 0.0, 1.0])\n",
        "print('Case 3 Output: {}'.format(cindex(y_true, scores)))\n",
        "cindex(y_true, scores)"
      ]
    },
    {
      "cell_type": "markdown",
      "metadata": {
        "id": "qHKVO2ipyXoA"
      },
      "source": [
        "#### Expected Output:\n",
        "\n",
        "```CPP\n",
        "Case 1 Output: 0.0\n",
        "Case 2 Output: 1.0\n",
        "Case 3 Output: 0.875\n",
        "```"
      ]
    },
    {
      "cell_type": "markdown",
      "metadata": {
        "id": "NFrjwtUuw3rO"
      },
      "source": [
        "#### Note\n",
        "Please check your implementation of the for loops.\n",
        "- There is way to make a mistake on the for loops that cannot be caught with unit tests.\n",
        "- Bonus: Can you think of what this error could be, and why it can't be caught by unit tests?"
      ]
    },
    {
      "cell_type": "markdown",
      "metadata": {
        "id": "GOEaZigmOPVF"
      },
      "source": [
        "<a name='7'></a>\n",
        "## 7. Evaluate the Model on the Test Set\n",
        "\n",
        "Now, you can evaluate your trained model on the test set.  \n",
        "\n",
        "To get the predicted probabilities, we use the `predict_proba` method. This method will return the result from the model *before* it is converted to a binary 0 or 1. For each input case, it returns an array of two values which represent the probabilities for both the negative case (patient does not get the disease) and positive case (patient the gets the disease)."
      ]
    },
    {
      "cell_type": "code",
      "execution_count": null,
      "metadata": {
        "colab": {
          "base_uri": "https://localhost:8080/"
        },
        "id": "_J5TbdH_LSjB",
        "outputId": "3fbe80aa-f8b6-4b35-f065-a4e90a78db83"
      },
      "outputs": [
        {
          "output_type": "stream",
          "name": "stdout",
          "text": [
            "c-index on test set is 0.8147\n"
          ]
        }
      ],
      "source": [
        "scores = model_X.predict_proba(X_test)[:, 1]\n",
        "c_index_X_test = cindex(y_test.values, scores)\n",
        "print(f\"c-index on test set is {c_index_X_test:.4f}\")"
      ]
    },
    {
      "cell_type": "markdown",
      "metadata": {
        "id": "8Iy7rIiyyXoD"
      },
      "source": [
        "#### Expected output:\n",
        "```CPP\n",
        "c-index on test set is 0.8182\n",
        "```"
      ]
    },
    {
      "cell_type": "markdown",
      "metadata": {
        "id": "-BC_HAM6MXWU"
      },
      "source": [
        "Let's plot the coefficients to see which variables (patient features) are having the most effect. You can access the model coefficients by using `model.coef_`"
      ]
    },
    {
      "cell_type": "code",
      "execution_count": null,
      "metadata": {
        "colab": {
          "base_uri": "https://localhost:8080/",
          "height": 501
        },
        "id": "lZeo6AJbMdCq",
        "outputId": "09f1ffc0-3294-4324-ac77-42691b37dee3"
      },
      "outputs": [
        {
          "output_type": "display_data",
          "data": {
            "text/plain": [
              "<Figure size 640x480 with 1 Axes>"
            ],
            "image/png": "[encoded data removed]"
          },
          "metadata": {}
        }
      ],
      "source": [
        "coeffs = pd.DataFrame(data = model_X.coef_, columns = X_train.columns)\n",
        "coeffs.T.plot.bar(legend=None);"
      ]
    },
    {
      "cell_type": "markdown",
      "metadata": {
        "id": "3wqxQe2yw3rP"
      },
      "source": [
        "### Question:\n",
        "> __Which three variables have the largest impact on the model's predictions?__"
      ]
    },
    {
      "cell_type": "markdown",
      "metadata": {
        "id": "7KbLT-zkNgLT"
      },
      "source": [
        "<a name='8'></a>\n",
        "## 8. Improve the Model\n",
        "\n",
        "You can try to improve your model by including interaction terms.\n",
        "* An interaction term is the product of two variables.\n",
        "    * For example, if we have data\n",
        "    $$ x = [x_1, x_2]$$\n",
        "    * We could add the product so that:\n",
        "    $$ \\hat{x} = [x_1, x_2, x_1*x_2]$$\n",
        "    "
      ]
    },
    {
      "cell_type": "markdown",
      "metadata": {
        "id": "S_RwZM1Uw3rP"
      },
      "source": [
        "<a name='Ex-4'></a>\n",
        "### Exercise 4\n",
        "\n",
        "Write code below to add all interactions between every pair of variables to the training and test datasets."
      ]
    },
    {
      "cell_type": "code",
      "execution_count": null,
      "metadata": {
        "id": "biuVl-lGSaJp"
      },
      "outputs": [],
      "source": [
        "# UNQ_C4 (UNIQUE CELL IDENTIFIER, DO NOT EDIT)\n",
        "def add_interactions(X):\n",
        "    \"\"\"\n",
        "    Add interaction terms between columns to dataframe.\n",
        "\n",
        "    Args:\n",
        "    X (dataframe): Original data\n",
        "\n",
        "    Returns:\n",
        "    X_int (dataframe): Original data with interaction terms appended.\n",
        "    \"\"\"\n",
        "    features = X.columns\n",
        "    m = len(features)\n",
        "    X_int = X.copy(deep=True)\n",
        "\n",
        "    ### START CODE HERE (REPLACE INSTANCES OF 'None' with your code) ###\n",
        "    # 'i' loops through all features in the original dataframe X\n",
        "    for i in range(m):\n",
        "\n",
        "        # get the name of feature 'i'\n",
        "        feature_i_name = features[i]\n",
        "\n",
        "        # get the data for feature 'i'\n",
        "        feature_i_data = X.loc[:, feature_i_name]\n",
        "\n",
        "        # choose the index of column 'j' to be greater than column i\n",
        "        for j in range(i+1, m):\n",
        "\n",
        "            # get the name of feature 'j'\n",
        "            feature_j_name = features[j]\n",
        "\n",
        "            # get the data for feature j'\n",
        "            feature_j_data = X.loc[:, feature_j_name]\n",
        "\n",
        "            # create the name of the interaction feature by combining both names\n",
        "            # example: \"apple\" and \"orange\" are combined to be \"apple_x_orange\"\n",
        "            feature_i_j_name = f\"{feature_i_name}_x_{feature_j_name}\"\n",
        "\n",
        "            # Multiply the data for feature 'i' and feature 'j'\n",
        "            # store the result as a column in dataframe X_int\n",
        "            X_int[feature_i_j_name] = feature_i_data * feature_j_data\n",
        "\n",
        "    ### END CODE HERE ###\n",
        "\n",
        "    return X_int"
      ]
    },
    {
      "cell_type": "markdown",
      "metadata": {
        "id": "qV4rRIdwVJPm"
      },
      "source": [
        "#### Test Your Work\n",
        "\n",
        "Run the cell below to check your implementation."
      ]
    },
    {
      "cell_type": "code",
      "execution_count": null,
      "metadata": {
        "colab": {
          "base_uri": "https://localhost:8080/"
        },
        "id": "x5Q7eUpBcyLG",
        "outputId": "cb858a9f-e0dd-456e-e95a-731e9fd1daa0"
      },
      "outputs": [
        {
          "output_type": "stream",
          "name": "stdout",
          "text": [
            "Original Data\n",
            "           Age Systolic_BP\n",
            "1824 -0.910853    0.643125\n",
            "253  -0.360317   -0.028921\n",
            "1114  2.982794   -0.900589\n",
            "3220  1.172568   -2.139919\n",
            "2108 -0.494685   -0.387525\n",
            "Data w/ Interactions\n",
            "           Age Systolic_BP Age_x_Systolic_BP\n",
            "1824 -0.910853    0.643125         -0.585793\n",
            "253  -0.360317   -0.028921          0.010421\n",
            "1114  2.982794   -0.900589         -2.686271\n",
            "3220  1.172568   -2.139919           -2.5092\n",
            "2108 -0.494685   -0.387525          0.191703\n"
          ]
        }
      ],
      "source": [
        "print(\"Original Data\")\n",
        "print(X_train.loc[:, ['Age', 'Systolic_BP']].head())\n",
        "print(\"Data w/ Interactions\")\n",
        "print(add_interactions(X_train.loc[:, ['Age', 'Systolic_BP']].head()))"
      ]
    },
    {
      "cell_type": "markdown",
      "metadata": {
        "id": "lVoPgtbYw3rQ"
      },
      "source": [
        "#### Expected Output:\n",
        "```CPP\n",
        "Original Data\n",
        "           Age  Systolic_BP\n",
        "1824 -0.912451    -0.068019\n",
        "253  -0.302039     1.719538\n",
        "1114  2.576274     0.155962\n",
        "3220  1.163621    -2.033931\n",
        "2108 -0.446238    -0.054554\n",
        "Data w/ Interactions\n",
        "           Age  Systolic_BP  Age_x_Systolic_BP\n",
        "1824 -0.912451    -0.068019           0.062064\n",
        "253  -0.302039     1.719538          -0.519367\n",
        "1114  2.576274     0.155962           0.401800\n",
        "3220  1.163621    -2.033931          -2.366725\n",
        "2108 -0.446238    -0.054554           0.024344\n",
        "```"
      ]
    },
    {
      "cell_type": "markdown",
      "metadata": {
        "id": "rKKiFF5Pdwtv"
      },
      "source": [
        "Once you have correctly implemented `add_interactions`, use it to make transformed version of `X_train` and `X_test`."
      ]
    },
    {
      "cell_type": "code",
      "execution_count": null,
      "metadata": {
        "id": "mYcDf7nsd2nh"
      },
      "outputs": [],
      "source": [
        "X_train_int = add_interactions(X_train)\n",
        "X_test_int = add_interactions(X_test)"
      ]
    },
    {
      "cell_type": "markdown",
      "metadata": {
        "id": "Y6IgFZWxLqTa"
      },
      "source": [
        "<a name='9'></a>\n",
        "## 9. Evaluate the Improved Model\n",
        "\n",
        "Now we can train the new and improved version of the model."
      ]
    },
    {
      "cell_type": "code",
      "execution_count": null,
      "metadata": {
        "id": "yG1PFDZqw3rQ"
      },
      "outputs": [],
      "source": [
        "model_X_int = lr_model(X_train_int, y_train)"
      ]
    },
    {
      "cell_type": "markdown",
      "metadata": {
        "id": "_lG5TV9Xw3rQ"
      },
      "source": [
        "Let's evaluate our new model on the test set."
      ]
    },
    {
      "cell_type": "code",
      "execution_count": null,
      "metadata": {
        "colab": {
          "base_uri": "https://localhost:8080/"
        },
        "id": "xn7U6_bEfWKI",
        "outputId": "a95fa438-2e48-40b5-9f52-dc40c6d0bd30"
      },
      "outputs": [
        {
          "output_type": "stream",
          "name": "stdout",
          "text": [
            "c-index on test set without interactions is 0.8147\n",
            "c-index on test set with interactions is 0.8253\n"
          ]
        }
      ],
      "source": [
        "scores_X = model_X.predict_proba(X_test)[:, 1]\n",
        "c_index_X_int_test = cindex(y_test.values, scores_X)\n",
        "\n",
        "scores_X_int = model_X_int.predict_proba(X_test_int)[:, 1]\n",
        "c_index_X_int_test = cindex(y_test.values, scores_X_int)\n",
        "\n",
        "print(f\"c-index on test set without interactions is {c_index_X_test:.4f}\")\n",
        "print(f\"c-index on test set with interactions is {c_index_X_int_test:.4f}\")"
      ]
    },
    {
      "cell_type": "markdown",
      "metadata": {
        "id": "-tYVyw-6jLfV"
      },
      "source": [
        "You should see that the model with interaction terms performs a bit better than the model without interactions.\n",
        "\n",
        "Now let's take another look at the model coefficients to try and see which variables made a difference. Plot the coefficients and report which features seem to be the most important."
      ]
    },
    {
      "cell_type": "code",
      "execution_count": null,
      "metadata": {
        "colab": {
          "base_uri": "https://localhost:8080/",
          "height": 601
        },
        "id": "9PpyFFqFjRpW",
        "outputId": "e36eb7ed-5116-4479-ce58-96bef6302044"
      },
      "outputs": [
        {
          "output_type": "display_data",
          "data": {
            "text/plain": [
              "<Figure size 640x480 with 1 Axes>"
            ],
            "image/png": "[encoded data removed]"
          },
          "metadata": {}
        }
      ],
      "source": [
        "int_coeffs = pd.DataFrame(data = model_X_int.coef_, columns = X_train_int.columns)\n",
        "int_coeffs.T.plot.bar();"
      ]
    },
    {
      "cell_type": "markdown",
      "metadata": {
        "id": "1bvx65OqOCUT"
      },
      "source": [
        "### Questions:\n",
        "> __Which variables are most important to the model?__<br>\n",
        "> __Have the relevant variables changed?__<br>\n",
        "> __What does it mean when the coefficients are positive or negative?__<br>\n",
        "\n",
        "You may notice that Age, Systolic_BP, and Cholesterol have a positive coefficient. This means that a higher value in these three features leads to a higher prediction probability for the disease. You also may notice that the interaction of Age x Cholesterol has a negative coefficient. This means that a higher value for the Age x Cholesterol product reduces the prediction probability for the disease.\n",
        "\n",
        "To understand the effect of interaction terms, let's compare the output of the model we've trained on sample cases with and without the interaction. Run the cell below to choose an index and look at the features corresponding to that case in the training set."
      ]
    },
    {
      "cell_type": "code",
      "execution_count": null,
      "metadata": {
        "colab": {
          "base_uri": "https://localhost:8080/"
        },
        "id": "Xj8v7ZxSShC7",
        "outputId": "9abd0bf1-d939-48c9-c100-33940ae9c166"
      },
      "outputs": [
        {
          "output_type": "stream",
          "name": "stdout",
          "text": [
            "Age                           2.878441\n",
            "Systolic_BP                   2.729715\n",
            "Diastolic_BP                  0.483595\n",
            "Cholesterol                   1.146522\n",
            "Age_x_Systolic_BP             7.857322\n",
            "Age_x_Diastolic_BP            1.391998\n",
            "Age_x_Cholesterol             3.300195\n",
            "Systolic_BP_x_Diastolic_BP    1.320076\n",
            "Systolic_BP_x_Cholesterol     3.129678\n",
            "Diastolic_BP_x_Cholesterol    0.554452\n",
            "Name: 5970, dtype: object\n"
          ]
        }
      ],
      "source": [
        "index = index = 3432\n",
        "case = X_train_int.iloc[index, :]\n",
        "print(case)"
      ]
    },
    {
      "cell_type": "markdown",
      "metadata": {
        "id": "0LbyZ8a39hSw"
      },
      "source": [
        "We can see that they have above average Age and Cholesterol. We can now see what our original model would have output by zero-ing out the value for Cholesterol and Age."
      ]
    },
    {
      "cell_type": "code",
      "execution_count": null,
      "metadata": {
        "colab": {
          "base_uri": "https://localhost:8080/",
          "height": 397
        },
        "id": "2HcpczwN9sB4",
        "outputId": "8dba4ac9-0e58-438c-f0d8-cb1036940218"
      },
      "outputs": [
        {
          "output_type": "execute_result",
          "data": {
            "text/plain": [
              "Age                           2.878441\n",
              "Systolic_BP                   2.729715\n",
              "Diastolic_BP                  0.483595\n",
              "Cholesterol                   1.146522\n",
              "Age_x_Systolic_BP             7.857322\n",
              "Age_x_Diastolic_BP            1.391998\n",
              "Age_x_Cholesterol                    0\n",
              "Systolic_BP_x_Diastolic_BP    1.320076\n",
              "Systolic_BP_x_Cholesterol     3.129678\n",
              "Diastolic_BP_x_Cholesterol    0.554452\n",
              "Name: 5970, dtype: object"
            ],
            "text/html": [
              "<div>\n",
              "<style scoped>\n",
              "    .dataframe tbody tr th:only-of-type {\n",
              "        vertical-align: middle;\n",
              "    }\n",
              "\n",
              "    .dataframe tbody tr th {\n",
              "        vertical-align: top;\n",
              "    }\n",
              "\n",
              "    .dataframe thead th {\n",
              "        text-align: right;\n",
              "    }\n",
              "</style>\n",
              "<table border=\"1\" class=\"dataframe\">\n",
              "  <thead>\n",
              "    <tr style=\"text-align: right;\">\n",
              "      <th></th>\n",
              "      <th>5970</th>\n",
              "    </tr>\n",
              "  </thead>\n",
              "  <tbody>\n",
              "    <tr>\n",
              "      <th>Age</th>\n",
              "      <td>2.878441</td>\n",
              "    </tr>\n",
              "    <tr>\n",
              "      <th>Systolic_BP</th>\n",
              "      <td>2.729715</td>\n",
              "    </tr>\n",
              "    <tr>\n",
              "      <th>Diastolic_BP</th>\n",
              "      <td>0.483595</td>\n",
              "    </tr>\n",
              "    <tr>\n",
              "      <th>Cholesterol</th>\n",
              "      <td>1.146522</td>\n",
              "    </tr>\n",
              "    <tr>\n",
              "      <th>Age_x_Systolic_BP</th>\n",
              "      <td>7.857322</td>\n",
              "    </tr>\n",
              "    <tr>\n",
              "      <th>Age_x_Diastolic_BP</th>\n",
              "      <td>1.391998</td>\n",
              "    </tr>\n",
              "    <tr>\n",
              "      <th>Age_x_Cholesterol</th>\n",
              "      <td>0</td>\n",
              "    </tr>\n",
              "    <tr>\n",
              "      <th>Systolic_BP_x_Diastolic_BP</th>\n",
              "      <td>1.320076</td>\n",
              "    </tr>\n",
              "    <tr>\n",
              "      <th>Systolic_BP_x_Cholesterol</th>\n",
              "      <td>3.129678</td>\n",
              "    </tr>\n",
              "    <tr>\n",
              "      <th>Diastolic_BP_x_Cholesterol</th>\n",
              "      <td>0.554452</td>\n",
              "    </tr>\n",
              "  </tbody>\n",
              "</table>\n",
              "</div><br><label><b>dtype:</b> object</label>"
            ]
          },
          "metadata": {},
          "execution_count": 69
        }
      ],
      "source": [
        "new_case = case.copy(deep=True)\n",
        "new_case.loc[\"Age_x_Cholesterol\"] = 0\n",
        "new_case"
      ]
    },
    {
      "cell_type": "markdown",
      "metadata": {
        "id": "Rs8q2fqkw3rR"
      },
      "source": [
        "#### Expected output\n",
        "```CPP\n",
        "Output with interaction: 0.9448\n",
        "Output without interaction: 0.9965\n",
        "```"
      ]
    },
    {
      "cell_type": "markdown",
      "metadata": {
        "id": "rdYQijiWnhyZ"
      },
      "source": [
        "We see that the model is less confident in its prediction with the interaction term than without (the prediction value is lower when including the interaction term). With the interaction term, the model has adjusted for the fact that the effect of high cholesterol becomes less important for older patients compared to younger patients."
      ]
    },
    {
      "cell_type": "markdown",
      "metadata": {
        "id": "zY6_1iIeajok"
      },
      "source": [
        "  "
      ]
    }
  ],
  "metadata": {
    "colab": {
      "provenance": []
    },
    "coursera": {
      "schema_names": [
        "AI4MC2-1"
      ]
    },
    "kernelspec": {
      "display_name": "Python 3 (ipykernel)",
      "language": "python",
      "name": "python3"
    },
    "language_info": {
      "codemirror_mode": {
        "name": "ipython",
        "version": 3
      },
      "file_extension": ".py",
      "mimetype": "text/x-python",
      "name": "python",
      "nbconvert_exporter": "python",
      "pygments_lexer": "ipython3",
      "version": "3.11.3"
    }
  },
  "nbformat": 4,
  "nbformat_minor": 0
}