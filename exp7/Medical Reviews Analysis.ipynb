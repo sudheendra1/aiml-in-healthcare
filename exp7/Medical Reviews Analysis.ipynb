{
 "cells": [
  {
   "cell_type": "markdown",
   "metadata": {
    "id": "ATF3m4cTSSA4"
   },
   "source": [
    "## Sentiment analysis - Amazon Health and Personal Care Reviews - Part 1\n",
    "![](https://gitlab.com/sayantan.world98/sentiment-analysis-amazon-health-and-personal-care/-/raw/master/images/img1.jpg)\n",
    "\n",
    "Sentiment analysis is the use of natural language processing, text analysis, computational linguistics, and biometrics to systematically identify, extract, quantify, and study affective states and subjective information.\n",
    "\n",
    "We are using the **Amazon Health and Personal Care Reviews** dataset to perfom Sentiment Analysis. The dataset contains **346,355 reviews**.\n",
    "\n",
    "Link to the original dataset source: http://jmcauley.ucsd.edu/data/amazon/\n",
    "\n",
    "Find the project and dataset here: https://gitlab.com/sayantan.world98/sentiment-analysis-amazon-health-and-personal-care\n",
    "\n",
    "Lets see what is there in our dataset.\n",
    "\n",
    "Sample data\n",
    "```\n",
    "{\n",
    "  \"reviewerID\": \"A2SUAM1J3GNN3B\",\n",
    "  \"asin\": \"0000013714\",\n",
    "  \"reviewerName\": \"J. McDonald\",\n",
    "  \"helpful\": [2, 3],\n",
    "  \"reviewText\": \"I bought this for my husband who plays the piano.  He is having a wonderful time playing these old hymns.  The music  is at times hard to read because we think the book was published for singing from more than playing from.  Great purchase though!\",\n",
    "  \"overall\": 5.0,\n",
    "  \"summary\": \"Heavenly Highway Hymns\",\n",
    "  \"unixReviewTime\": 1252800000,\n",
    "  \"reviewTime\": \"09 13, 2009\"\n",
    "}\n",
    "```\n",
    "Where,\n",
    "\n",
    "- reviewerID - ID of the reviewer, e.g. A2SUAM1J3GNN3B\n",
    "- asin - ID of the product, e.g. 0000013714\n",
    "- reviewerName - name of the reviewer\n",
    "- helpful - helpfulness rating of the review, e.g. 2/3\n",
    "- reviewText - text of the review\n",
    "- overall - rating of the product\n",
    "- summary - summary of the review\n",
    "- unixReviewTime - time of the review (unix time)\n",
    "- reviewTime - time of the review (raw)\n",
    "\n"
   ]
  },
  {
   "cell_type": "markdown",
   "metadata": {
    "id": "9qMnHnSOyaMY"
   },
   "source": [
    "### Downloading the dataset"
   ]
  },
  {
   "cell_type": "code",
   "execution_count": 1,
   "metadata": {
    "colab": {
     "base_uri": "https://localhost:8080/"
    },
    "id": "Zly6GCHGR-ow",
    "outputId": "5e42335e-e5c5-4994-fc1d-e31c6f5b0e91"
   },
   "outputs": [
    {
     "name": "stdout",
     "output_type": "stream",
     "text": [
      "Cloning into 'sentiment-analysis-amazon-health-and-personal-care'...\n",
      "remote: Enumerating objects: 12, done.\u001b[K\n",
      "remote: Counting objects: 100% (12/12), done.\u001b[K\n",
      "remote: Compressing objects: 100% (10/10), done.\u001b[K\n",
      "remote: Total 12 (delta 1), reused 0 (delta 0), pack-reused 0\u001b[K\n",
      "Unpacking objects: 100% (12/12), done.\n",
      "Checking out files: 100% (4/4), done.\n"
     ]
    }
   ],
   "source": [
    "!git clone https://gitlab.com/sayantan.world98/sentiment-analysis-amazon-health-and-personal-care.git"
   ]
  },
  {
   "cell_type": "code",
   "execution_count": 3,
   "metadata": {
    "id": "rn9hEiROrH3G"
   },
   "outputs": [],
   "source": [
    "# Loading the dataset in a dataframe\n",
    "df = pd.read_json('/content/sentiment-analysis-amazon-health-and-personal-care/dataset/Health_and_Personal_Care_5.json', lines=True)"
   ]
  },
  {
   "cell_type": "markdown",
   "metadata": {
    "id": "IKTVC8a8yfmv"
   },
   "source": [
    "### Importing modules"
   ]
  },
  {
   "cell_type": "code",
   "execution_count": 43,
   "metadata": {
    "id": "_hDn_akCShac"
   },
   "outputs": [],
   "source": [
    "# DataFrame\n",
    "import pandas as pd \n",
    "\n",
    "# plotting\n",
    "import seaborn as sns\n",
    "from wordcloud import WordCloud\n",
    "import matplotlib.pyplot as plt\n",
    "\n",
    "# nltk\n",
    "import nltk\n",
    "from nltk.stem import WordNetLemmatizer\n",
    "from nltk.corpus import stopwords\n",
    "from nltk.tokenize import word_tokenize\n",
    "\n",
    "# sklearn\n",
    "from sklearn.model_selection import train_test_split\n",
    "from sklearn.feature_extraction.text import TfidfVectorizer\n",
    "from sklearn.metrics import confusion_matrix, classification_report\n",
    "\n",
    "from sklearn.linear_model import LogisticRegression\n",
    "from sklearn.svm import LinearSVC\n",
    "from sklearn.ensemble import RandomForestClassifier\n",
    "from sklearn.naive_bayes import BernoulliNB\n",
    "\n",
    "\n",
    "#tensorflow\n",
    "import tensorflow.compat.v2 as tf\n",
    "import tensorflow_datasets as tfds\n",
    "\n",
    "# Utility\n",
    "import pandas as pd\n",
    "import numpy as np \n",
    "import warnings\n",
    "warnings.filterwarnings('ignore')\n",
    "import re\n",
    "import string\n",
    "import pickle"
   ]
  },
  {
   "cell_type": "markdown",
   "metadata": {
    "id": "SyL_7pE0y6Ir"
   },
   "source": [
    "Lets check how many reveiws are there per category (i.e 5 star, 4 star, etc)."
   ]
  },
  {
   "cell_type": "code",
   "execution_count": 4,
   "metadata": {
    "colab": {
     "base_uri": "https://localhost:8080/"
    },
    "id": "kWspHCxdrKB1",
    "outputId": "aabcfe19-3a75-41e9-e612-41781d075b08"
   },
   "outputs": [
    {
     "data": {
      "text/plain": [
       "5    211633\n",
       "4     68168\n",
       "3     33254\n",
       "2     16754\n",
       "1     16546\n",
       "Name: overall, dtype: int64"
      ]
     },
     "execution_count": 4,
     "metadata": {
      "tags": []
     },
     "output_type": "execute_result"
    }
   ],
   "source": [
    "df['overall'].value_counts()"
   ]
  },
  {
   "cell_type": "markdown",
   "metadata": {
    "id": "7IvRuQmGzTEn"
   },
   "source": [
    "### Target - Perform Binary Classification\n",
    "\n",
    "We can see we have a lot of 5 star (positive) reviews compared to the negative ones. Lets consider: \n",
    "- 5 and 4 stared reviews as positive class(i.e class - 1).\n",
    "- 1 and 2 stared reviews as negative class(i.e class - 0). "
   ]
  },
  {
   "cell_type": "code",
   "execution_count": 5,
   "metadata": {
    "colab": {
     "base_uri": "https://localhost:8080/"
    },
    "id": "_YGKrOtaraYK",
    "outputId": "73571eaf-03ae-4646-a4ce-8751d6934ed0"
   },
   "outputs": [
    {
     "name": "stdout",
     "output_type": "stream",
     "text": [
      "Total length of the data is:         346355\n",
      "No. of positve tagged sentences is:  279801\n",
      "No. of negative tagged sentences is: 33300\n"
     ]
    }
   ],
   "source": [
    "# check the number of positive vs. negative tagged sentences, we ignore neutral reviews as of now\n",
    "positives = df['overall'][(df.overall == 5) | (df.overall == 4)]\n",
    "negatives = df['overall'][(df.overall == 2) | (df.overall == 1)]\n",
    "\n",
    "print('Total length of the data is:         {}'.format(df.shape[0]))\n",
    "print('No. of positve tagged sentences is:  {}'.format(len(positives)))\n",
    "print('No. of negative tagged sentences is: {}'.format(len(negatives)))"
   ]
  },
  {
   "cell_type": "markdown",
   "metadata": {
    "id": "Dprd5Re513B2"
   },
   "source": [
    "As we have a biased dataset lets use 32,000 positive reviews and 32,000 negative reviews."
   ]
  },
  {
   "cell_type": "code",
   "execution_count": 7,
   "metadata": {
    "id": "LFmXH54ysazE"
   },
   "outputs": [],
   "source": [
    "# We use this to give a weight to the helpful reviews and we also applied smoothing.\n",
    "df['score'] = df.helpful.apply(lambda x: x[0] / (x[1] + 2))\n",
    "df_pos = df[(df.overall == 5) | (df.overall == 4)]\n",
    "df_pos = df_pos.sample(n=32000, weights=df.score, random_state=42)\n",
    "df_neg = df[(df.overall == 2) | (df.overall == 1)]\n",
    "df_neg = df_neg.sample(n=32000, random_state=42)"
   ]
  },
  {
   "cell_type": "markdown",
   "metadata": {
    "id": "SKHvVDMa2wuA"
   },
   "source": [
    "Now, lets join the df_pos and df_neg to make our required dataframe."
   ]
  },
  {
   "cell_type": "code",
   "execution_count": 11,
   "metadata": {
    "id": "X6Ig5Pr4skpD"
   },
   "outputs": [],
   "source": [
    "df_all = pd.concat([df_pos, df_neg])"
   ]
  },
  {
   "cell_type": "code",
   "execution_count": 13,
   "metadata": {
    "id": "4KCCSz8BsuQT"
   },
   "outputs": [],
   "source": [
    "# Positive class - 1, Negative class - 0\n",
    "def sentiment_score(n):\n",
    "  if n == 5 or n == 4:\n",
    "    return 1\n",
    "  return 0\n",
    "\n",
    "df_all['overall']=df_all['overall'].apply(lambda x: sentiment_score(x))"
   ]
  },
  {
   "cell_type": "code",
   "execution_count": 14,
   "metadata": {
    "colab": {
     "base_uri": "https://localhost:8080/"
    },
    "id": "3QVYbBqKs1f9",
    "outputId": "5950547c-c724-4e12-ea8b-47abdd308b26"
   },
   "outputs": [
    {
     "data": {
      "text/plain": [
       "1    32000\n",
       "0    32000\n",
       "Name: overall, dtype: int64"
      ]
     },
     "execution_count": 14,
     "metadata": {
      "tags": []
     },
     "output_type": "execute_result"
    }
   ],
   "source": [
    "df_all['overall'].value_counts()"
   ]
  },
  {
   "cell_type": "markdown",
   "metadata": {
    "id": "BsplmTNe3HL2"
   },
   "source": [
    "Remove unwanted Columns (Features) from the dataframe."
   ]
  },
  {
   "cell_type": "code",
   "execution_count": 16,
   "metadata": {
    "id": "9OlJHCe4s6q1"
   },
   "outputs": [],
   "source": [
    "df_all = df_all.drop(['reviewerName', 'helpful', 'unixReviewTime', 'reviewTime', 'score', 'summary', 'asin', 'reviewerID'], axis=1)"
   ]
  },
  {
   "cell_type": "code",
   "execution_count": 17,
   "metadata": {
    "colab": {
     "base_uri": "https://localhost:8080/",
     "height": 419
    },
    "id": "3rNrXaYvs9td",
    "outputId": "4695ef4e-fb11-4ba3-ed70-81ba0f38017b"
   },
   "outputs": [
    {
     "data": {
      "text/html": [
       "<div>\n",
       "<style scoped>\n",
       "    .dataframe tbody tr th:only-of-type {\n",
       "        vertical-align: middle;\n",
       "    }\n",
       "\n",
       "    .dataframe tbody tr th {\n",
       "        vertical-align: top;\n",
       "    }\n",
       "\n",
       "    .dataframe thead th {\n",
       "        text-align: right;\n",
       "    }\n",
       "</style>\n",
       "<table border=\"1\" class=\"dataframe\">\n",
       "  <thead>\n",
       "    <tr style=\"text-align: right;\">\n",
       "      <th></th>\n",
       "      <th>reviewText</th>\n",
       "      <th>overall</th>\n",
       "    </tr>\n",
       "  </thead>\n",
       "  <tbody>\n",
       "    <tr>\n",
       "      <th>0</th>\n",
       "      <td>My stepdad needed a shower chair, and the ones...</td>\n",
       "      <td>1</td>\n",
       "    </tr>\n",
       "    <tr>\n",
       "      <th>1</th>\n",
       "      <td>It works.  However it had a lot of bubbles ins...</td>\n",
       "      <td>1</td>\n",
       "    </tr>\n",
       "    <tr>\n",
       "      <th>2</th>\n",
       "      <td>We bought these for my 8 year old with high-fu...</td>\n",
       "      <td>1</td>\n",
       "    </tr>\n",
       "    <tr>\n",
       "      <th>3</th>\n",
       "      <td>I've owned a front-loader (HE) washing machine...</td>\n",
       "      <td>1</td>\n",
       "    </tr>\n",
       "    <tr>\n",
       "      <th>4</th>\n",
       "      <td>Good value for use in the home; not too big, n...</td>\n",
       "      <td>1</td>\n",
       "    </tr>\n",
       "    <tr>\n",
       "      <th>...</th>\n",
       "      <td>...</td>\n",
       "      <td>...</td>\n",
       "    </tr>\n",
       "    <tr>\n",
       "      <th>63995</th>\n",
       "      <td>Picked up a pair of Duracell AA batteries on a...</td>\n",
       "      <td>0</td>\n",
       "    </tr>\n",
       "    <tr>\n",
       "      <th>63996</th>\n",
       "      <td>This dried up after only one or two sparse use...</td>\n",
       "      <td>0</td>\n",
       "    </tr>\n",
       "    <tr>\n",
       "      <th>63997</th>\n",
       "      <td>I had dislocated and broken my shoulder nearly...</td>\n",
       "      <td>0</td>\n",
       "    </tr>\n",
       "    <tr>\n",
       "      <th>63998</th>\n",
       "      <td>When I was a child I remember reading a short ...</td>\n",
       "      <td>0</td>\n",
       "    </tr>\n",
       "    <tr>\n",
       "      <th>63999</th>\n",
       "      <td>This served as my introduction to the Sensa pr...</td>\n",
       "      <td>0</td>\n",
       "    </tr>\n",
       "  </tbody>\n",
       "</table>\n",
       "<p>64000 rows × 2 columns</p>\n",
       "</div>"
      ],
      "text/plain": [
       "                                              reviewText  overall\n",
       "0      My stepdad needed a shower chair, and the ones...        1\n",
       "1      It works.  However it had a lot of bubbles ins...        1\n",
       "2      We bought these for my 8 year old with high-fu...        1\n",
       "3      I've owned a front-loader (HE) washing machine...        1\n",
       "4      Good value for use in the home; not too big, n...        1\n",
       "...                                                  ...      ...\n",
       "63995  Picked up a pair of Duracell AA batteries on a...        0\n",
       "63996  This dried up after only one or two sparse use...        0\n",
       "63997  I had dislocated and broken my shoulder nearly...        0\n",
       "63998  When I was a child I remember reading a short ...        0\n",
       "63999  This served as my introduction to the Sensa pr...        0\n",
       "\n",
       "[64000 rows x 2 columns]"
      ]
     },
     "execution_count": 17,
     "metadata": {
      "tags": []
     },
     "output_type": "execute_result"
    }
   ],
   "source": [
    "# Reset index\n",
    "df_all.reset_index().drop(['index'], axis=1)"
   ]
  },
  {
   "cell_type": "markdown",
   "metadata": {
    "id": "rOVsGknR397W"
   },
   "source": [
    "### Data Visualization\n",
    "\n",
    "Lets take a look how our data frame looks like"
   ]
  },
  {
   "cell_type": "code",
   "execution_count": 48,
   "metadata": {
    "colab": {
     "base_uri": "https://localhost:8080/",
     "height": 407
    },
    "id": "lU_rNqQ34GXm",
    "outputId": "c6bdc622-610a-48da-f35c-8971c8f99eac"
   },
   "outputs": [
    {
     "data": {
      "text/plain": [
       "<matplotlib.legend.Legend at 0x7f3d29988590>"
      ]
     },
     "execution_count": 48,
     "metadata": {
      "tags": []
     },
     "output_type": "execute_result"
    },
    {
     "data": {
      "image/png": "[encoded data removed]",
      "text/plain": [
       "<Figure size 864x432 with 1 Axes>"
      ]
     },
     "metadata": {
      "needs_background": "light",
      "tags": []
     },
     "output_type": "display_data"
    }
   ],
   "source": [
    "# get a word count per of text\n",
    "def word_count(words):\n",
    "    return len(words.split())\n",
    "\n",
    "# plot word count distribution for both positive and negative\n",
    "\n",
    "df_all['word count'] = df_all['reviewText'].apply(word_count)\n",
    "p = df_all['word count'][df_all.overall == 1]\n",
    "n = df_all['word count'][df_all.overall == 0]\n",
    "plt.figure(figsize=(12,6))\n",
    "plt.xlim(0,400)\n",
    "plt.xlabel('Word count')\n",
    "plt.ylabel('Frequency')\n",
    "g = plt.hist([p, n], color=['g','r'], alpha=0.5, label=['positive','negative'], bins=50)\n",
    "plt.legend(loc='upper right')"
   ]
  },
  {
   "cell_type": "code",
   "execution_count": 49,
   "metadata": {
    "id": "C2JC2gN05S7w"
   },
   "outputs": [],
   "source": [
    "df_all = df_all.drop(['word count'], axis=1)"
   ]
  },
  {
   "cell_type": "code",
   "execution_count": 51,
   "metadata": {
    "colab": {
     "base_uri": "https://localhost:8080/",
     "height": 298
    },
    "id": "awBo_HZn5O_F",
    "outputId": "52611669-e052-4a01-a5d9-72c148b91da6"
   },
   "outputs": [
    {
     "data": {
      "text/plain": [
       "<matplotlib.axes._subplots.AxesSubplot at 0x7f3d295aa910>"
      ]
     },
     "execution_count": 51,
     "metadata": {
      "tags": []
     },
     "output_type": "execute_result"
    },
    {
     "data": {
      "image/png": "[encoded data removed]",
      "text/plain": [
       "<Figure size 432x288 with 1 Axes>"
      ]
     },
     "metadata": {
      "needs_background": "light",
      "tags": []
     },
     "output_type": "display_data"
    }
   ],
   "source": [
    "%matplotlib inline\n",
    "sns.countplot(df_all['overall'])"
   ]
  },
  {
   "cell_type": "markdown",
   "metadata": {
    "id": "6kqRJ6aN54tI"
   },
   "source": [
    "### Data Processing"
   ]
  },
  {
   "cell_type": "markdown",
   "metadata": {
    "id": "OQ4vjhcS6GqX"
   },
   "source": [
    "In the Text Preprocessing we will do the following:\n",
    "\n",
    "- Convert the reviews to Lower case.\n",
    "\n",
    "- Remove punctuations if any.\n",
    "\n",
    "- We will filter out stopwords. In computing, stop words are words which are filtered out before or after processing of natural language data.\n",
    "\n",
    "- Perform lemmatization on each word."
   ]
  },
  {
   "cell_type": "code",
   "execution_count": 52,
   "metadata": {
    "colab": {
     "base_uri": "https://localhost:8080/"
    },
    "id": "sj75BJOqtE5M",
    "outputId": "4d7e4def-d2a3-4418-d4ae-f5a765081aee"
   },
   "outputs": [
    {
     "name": "stdout",
     "output_type": "stream",
     "text": [
      "[nltk_data] Downloading package stopwords to /root/nltk_data...\n",
      "[nltk_data]   Package stopwords is already up-to-date!\n"
     ]
    }
   ],
   "source": [
    "nltk.download('stopwords')\n",
    "stopword = set(stopwords.words('english'))"
   ]
  },
  {
   "cell_type": "code",
   "execution_count": 19,
   "metadata": {
    "id": "mmNED6ORtJEc"
   },
   "outputs": [],
   "source": [
    "wordLemm = WordNetLemmatizer()\n",
    "def process_reviews(review):\n",
    "    # Lower Casing\n",
    "    review = review.lower()\n",
    "    #Remove punctuations\n",
    "    review = review.translate(str.maketrans(\"\",\"\",string.punctuation))\n",
    "    #tokenizing words\n",
    "    tokens = word_tokenize(review)\n",
    "    #Removing Stop Words\n",
    "    final_tokens = [w for w in tokens if w not in stopword]\n",
    "    #reducing a word to its word stem using lemmatization\n",
    "    finalwords=[]\n",
    "    for w in final_tokens:\n",
    "      if len(w)>1:\n",
    "        word = wordLemm.lemmatize(w)\n",
    "        finalwords.append(word)\n",
    "    return ' '.join(finalwords)"
   ]
  },
  {
   "cell_type": "code",
   "execution_count": 20,
   "metadata": {
    "id": "GBwGcsUztdu2"
   },
   "outputs": [],
   "source": [
    "df_all['reviewText'] = df_all['reviewText'].astype('str')"
   ]
  },
  {
   "cell_type": "code",
   "execution_count": 21,
   "metadata": {
    "colab": {
     "base_uri": "https://localhost:8080/"
    },
    "id": "UczBluWVtiF_",
    "outputId": "4ff7e723-8ccc-4eb6-972c-a4cf72b1aa48"
   },
   "outputs": [
    {
     "name": "stdout",
     "output_type": "stream",
     "text": [
      "[nltk_data] Downloading package punkt to /root/nltk_data...\n",
      "[nltk_data]   Unzipping tokenizers/punkt.zip.\n",
      "[nltk_data] Downloading package wordnet to /root/nltk_data...\n",
      "[nltk_data]   Unzipping corpora/wordnet.zip.\n"
     ]
    },
    {
     "data": {
      "text/plain": [
       "True"
      ]
     },
     "execution_count": 21,
     "metadata": {
      "tags": []
     },
     "output_type": "execute_result"
    }
   ],
   "source": [
    "nltk.download('punkt')\n",
    "nltk.download('wordnet')"
   ]
  },
  {
   "cell_type": "code",
   "execution_count": 22,
   "metadata": {
    "colab": {
     "base_uri": "https://localhost:8080/"
    },
    "id": "jr_-Jl6Ltj-W",
    "outputId": "4b64b620-3266-42b3-e404-41f46d949b55"
   },
   "outputs": [
    {
     "name": "stdout",
     "output_type": "stream",
     "text": [
      "Text Preprocessing complete.\n"
     ]
    }
   ],
   "source": [
    "df_all['processed_reviews'] = df_all['reviewText'].apply(lambda x: process_reviews(x))\n",
    "print('Text Preprocessing complete.')"
   ]
  },
  {
   "cell_type": "code",
   "execution_count": 42,
   "metadata": {
    "colab": {
     "base_uri": "https://localhost:8080/",
     "height": 419
    },
    "id": "kY1pjzJixoS-",
    "outputId": "e4e7acaa-cb85-418f-d1b6-f61c34603f6c"
   },
   "outputs": [
    {
     "data": {
      "text/html": [
       "<div>\n",
       "<style scoped>\n",
       "    .dataframe tbody tr th:only-of-type {\n",
       "        vertical-align: middle;\n",
       "    }\n",
       "\n",
       "    .dataframe tbody tr th {\n",
       "        vertical-align: top;\n",
       "    }\n",
       "\n",
       "    .dataframe thead th {\n",
       "        text-align: right;\n",
       "    }\n",
       "</style>\n",
       "<table border=\"1\" class=\"dataframe\">\n",
       "  <thead>\n",
       "    <tr style=\"text-align: right;\">\n",
       "      <th></th>\n",
       "      <th>reviewText</th>\n",
       "      <th>overall</th>\n",
       "      <th>processed_reviews</th>\n",
       "    </tr>\n",
       "  </thead>\n",
       "  <tbody>\n",
       "    <tr>\n",
       "      <th>114050</th>\n",
       "      <td>My stepdad needed a shower chair, and the ones...</td>\n",
       "      <td>1</td>\n",
       "      <td>stepdad needed shower chair one local store fa...</td>\n",
       "    </tr>\n",
       "    <tr>\n",
       "      <th>329492</th>\n",
       "      <td>It works.  However it had a lot of bubbles ins...</td>\n",
       "      <td>1</td>\n",
       "      <td>work however lot bubble inside chipped big jun...</td>\n",
       "    </tr>\n",
       "    <tr>\n",
       "      <th>245270</th>\n",
       "      <td>We bought these for my 8 year old with high-fu...</td>\n",
       "      <td>1</td>\n",
       "      <td>bought year old highfunctioning autism easily ...</td>\n",
       "    </tr>\n",
       "    <tr>\n",
       "      <th>195288</th>\n",
       "      <td>I've owned a front-loader (HE) washing machine...</td>\n",
       "      <td>1</td>\n",
       "      <td>ive owned frontloader washing machine since 20...</td>\n",
       "    </tr>\n",
       "    <tr>\n",
       "      <th>46761</th>\n",
       "      <td>Good value for use in the home; not too big, n...</td>\n",
       "      <td>1</td>\n",
       "      <td>good value use home big small easily disposed ...</td>\n",
       "    </tr>\n",
       "    <tr>\n",
       "      <th>...</th>\n",
       "      <td>...</td>\n",
       "      <td>...</td>\n",
       "      <td>...</td>\n",
       "    </tr>\n",
       "    <tr>\n",
       "      <th>179920</th>\n",
       "      <td>Picked up a pair of Duracell AA batteries on a...</td>\n",
       "      <td>0</td>\n",
       "      <td>picked pair duracell aa battery vacation recha...</td>\n",
       "    </tr>\n",
       "    <tr>\n",
       "      <th>210206</th>\n",
       "      <td>This dried up after only one or two sparse use...</td>\n",
       "      <td>0</td>\n",
       "      <td>dried one two sparse us hardly enough make sur...</td>\n",
       "    </tr>\n",
       "    <tr>\n",
       "      <th>112793</th>\n",
       "      <td>I had dislocated and broken my shoulder nearly...</td>\n",
       "      <td>0</td>\n",
       "      <td>dislocated broken shoulder nearly six month ag...</td>\n",
       "    </tr>\n",
       "    <tr>\n",
       "      <th>44474</th>\n",
       "      <td>When I was a child I remember reading a short ...</td>\n",
       "      <td>0</td>\n",
       "      <td>child remember reading short childrens story c...</td>\n",
       "    </tr>\n",
       "    <tr>\n",
       "      <th>295871</th>\n",
       "      <td>This served as my introduction to the Sensa pr...</td>\n",
       "      <td>0</td>\n",
       "      <td>served introduction sensa product seeing many ...</td>\n",
       "    </tr>\n",
       "  </tbody>\n",
       "</table>\n",
       "<p>64000 rows × 3 columns</p>\n",
       "</div>"
      ],
      "text/plain": [
       "                                               reviewText  ...                                  processed_reviews\n",
       "114050  My stepdad needed a shower chair, and the ones...  ...  stepdad needed shower chair one local store fa...\n",
       "329492  It works.  However it had a lot of bubbles ins...  ...  work however lot bubble inside chipped big jun...\n",
       "245270  We bought these for my 8 year old with high-fu...  ...  bought year old highfunctioning autism easily ...\n",
       "195288  I've owned a front-loader (HE) washing machine...  ...  ive owned frontloader washing machine since 20...\n",
       "46761   Good value for use in the home; not too big, n...  ...  good value use home big small easily disposed ...\n",
       "...                                                   ...  ...                                                ...\n",
       "179920  Picked up a pair of Duracell AA batteries on a...  ...  picked pair duracell aa battery vacation recha...\n",
       "210206  This dried up after only one or two sparse use...  ...  dried one two sparse us hardly enough make sur...\n",
       "112793  I had dislocated and broken my shoulder nearly...  ...  dislocated broken shoulder nearly six month ag...\n",
       "44474   When I was a child I remember reading a short ...  ...  child remember reading short childrens story c...\n",
       "295871  This served as my introduction to the Sensa pr...  ...  served introduction sensa product seeing many ...\n",
       "\n",
       "[64000 rows x 3 columns]"
      ]
     },
     "execution_count": 42,
     "metadata": {
      "tags": []
     },
     "output_type": "execute_result"
    }
   ],
   "source": [
    "df_all"
   ]
  },
  {
   "cell_type": "markdown",
   "metadata": {
    "id": "zopEE8wh7Ixi"
   },
   "source": [
    "### Vectorization and Splitting the data"
   ]
  },
  {
   "cell_type": "code",
   "execution_count": 25,
   "metadata": {
    "id": "1ctRvYbOudVA"
   },
   "outputs": [],
   "source": [
    "X = df_all['processed_reviews'].values\n",
    "y = df_all['overall'].values"
   ]
  },
  {
   "cell_type": "code",
   "execution_count": 26,
   "metadata": {
    "colab": {
     "base_uri": "https://localhost:8080/"
    },
    "id": "uYj1ubKyuv8i",
    "outputId": "58cd7eb2-6da3-4f2e-c0d0-6ecdd891d801"
   },
   "outputs": [
    {
     "name": "stdout",
     "output_type": "stream",
     "text": [
      "(64000,)\n",
      "(64000,)\n"
     ]
    }
   ],
   "source": [
    "print(X.shape)\n",
    "print(y.shape)"
   ]
  },
  {
   "cell_type": "markdown",
   "metadata": {
    "id": "2xMfdXoN7NvA"
   },
   "source": [
    "#### Convert text to word frequency vectors\n",
    "\n",
    "**TF-IDF**\n",
    "\n",
    "This is an acronym than stands for Term Frequency – Inverse Document Frequency which are the components of the resulting scores assigned to each word.\n",
    "\n",
    "- Term Frequency: This summarizes how often a given word appears within a document.\n",
    "- Inverse Document Frequency: This downscales words that appear a lot across documents."
   ]
  },
  {
   "cell_type": "code",
   "execution_count": 27,
   "metadata": {
    "colab": {
     "base_uri": "https://localhost:8080/"
    },
    "id": "81Wkxeo8uxZl",
    "outputId": "de7f33f6-895e-4427-f58f-3555ab427715"
   },
   "outputs": [
    {
     "name": "stdout",
     "output_type": "stream",
     "text": [
      "Vector fitted.\n",
      "No. of feature_words:  139519\n"
     ]
    }
   ],
   "source": [
    "#Convert a collection of raw documents to a matrix of TF-IDF features.\n",
    "vector = TfidfVectorizer(sublinear_tf=True)\n",
    "X = vector.fit_transform(X)\n",
    "print(f'Vector fitted.')\n",
    "print('No. of feature_words: ', len(vector.get_feature_names()))"
   ]
  },
  {
   "cell_type": "code",
   "execution_count": 28,
   "metadata": {
    "colab": {
     "base_uri": "https://localhost:8080/"
    },
    "id": "2y-Ug80Kuz__",
    "outputId": "242877d0-f992-4143-831b-92db21771b8c"
   },
   "outputs": [
    {
     "name": "stdout",
     "output_type": "stream",
     "text": [
      "(64000, 139519)\n",
      "(64000,)\n"
     ]
    }
   ],
   "source": [
    "print(X.shape)\n",
    "print(y.shape)"
   ]
  },
  {
   "cell_type": "markdown",
   "metadata": {
    "id": "BpgITtN87g2H"
   },
   "source": [
    "### Split train and test\n",
    "\n",
    "The Preprocessed Data is divided into 2 sets of data:\n",
    "\n",
    "- Training Data: The dataset upon which the model would be trained on. Contains 80% data.\n",
    "- Test Data: The dataset upon which the model would be tested against. Contains 20% data.\n",
    "\n",
    "We selected random seed to be 42."
   ]
  },
  {
   "cell_type": "code",
   "execution_count": 29,
   "metadata": {
    "id": "qtahWSaFu33t"
   },
   "outputs": [],
   "source": [
    "X_train, X_test, y_train, y_test = train_test_split(X, y, test_size = 0.20, random_state=42)"
   ]
  },
  {
   "cell_type": "markdown",
   "metadata": {
    "id": "PariK1W571Ka"
   },
   "source": [
    "### Evaluating the Model"
   ]
  },
  {
   "cell_type": "code",
   "execution_count": 36,
   "metadata": {
    "id": "vj3IYeJ9u549"
   },
   "outputs": [],
   "source": [
    "def model_Evaluate(model):\n",
    "    #accuracy of model on training data\n",
    "    acc_train=model.score(X_train, y_train)\n",
    "    #accuracy of model on test data\n",
    "    acc_test=model.score(X_test, y_test)\n",
    "    \n",
    "    print('Accuracy of model on training data : {}'.format(acc_train*100))\n",
    "    print('Accuracy of model on testing data : {} \\n'.format(acc_test*100))\n",
    "\n",
    "    # Predict values for Test dataset\n",
    "    y_pred = model.predict(X_test)\n",
    "\n",
    "    # Print the evaluation metrics for the dataset.\n",
    "    print(classification_report(y_test, y_pred))\n",
    "    \n",
    "    # Compute and plot the Confusion matrix\n",
    "    cf_matrix = confusion_matrix(y_test, y_pred)\n",
    "\n",
    "    print(cf_matrix)\n",
    "    categories  = ['Negative','Positive']\n",
    "    group_names = ['True Neg','False Pos', 'False Neg','True Pos']\n",
    "    group_percentages = ['{0:.2%}'.format(value) for value in cf_matrix.flatten() / np.sum(cf_matrix)]\n",
    "\n",
    "    labels = [f'{v1}\\n{v2}' for v1, v2 in zip(group_names,group_percentages)]\n",
    "    labels = np.asarray(labels).reshape(2,2)\n",
    "\n",
    "    sns.heatmap(cf_matrix, annot = labels, cmap = 'YlGn',fmt = '',\n",
    "                xticklabels = categories, yticklabels = categories)\n",
    "\n",
    "    plt.xlabel(\"Predicted values\", fontdict = {'size':14}, labelpad = 10)\n",
    "    plt.ylabel(\"Actual values\"   , fontdict = {'size':14}, labelpad = 10)\n",
    "    plt.title (\"Confusion Matrix\", fontdict = {'size':18}, pad = 20)"
   ]
  },
  {
   "cell_type": "markdown",
   "metadata": {
    "id": "fL_ZjRSl8CTx"
   },
   "source": [
    "### Logistic Regression\n",
    "\n",
    "Logistic regression is a statistical model that in its basic form uses a logistic function to model a binary dependent variable, although many more complex extensions exist. In regression analysis, logistic regression (or logit regression) is estimating the parameters of a logistic model (a form of binary regression).\n",
    "\n",
    "To read more: https://machinelearningmastery.com/logistic-regression-for-machine-learning/"
   ]
  },
  {
   "cell_type": "code",
   "execution_count": 37,
   "metadata": {
    "colab": {
     "base_uri": "https://localhost:8080/",
     "height": 589
    },
    "id": "w8oWBOchu-RO",
    "outputId": "88d3910d-e1a9-432a-a4c7-b0e72ba57b89"
   },
   "outputs": [
    {
     "name": "stdout",
     "output_type": "stream",
     "text": [
      "Accuracy of model on training data : 88.623046875\n",
      "Accuracy of model on testing data : 84.46875 \n",
      "\n",
      "              precision    recall  f1-score   support\n",
      "\n",
      "           0       0.85      0.84      0.85      6460\n",
      "           1       0.84      0.85      0.84      6340\n",
      "\n",
      "    accuracy                           0.84     12800\n",
      "   macro avg       0.84      0.84      0.84     12800\n",
      "weighted avg       0.84      0.84      0.84     12800\n",
      "\n",
      "[[5431 1029]\n",
      " [ 959 5381]]\n"
     ]
    },
    {
     "data": {
      "image/png": "[encoded data removed]",
      "text/plain": [
       "<Figure size 432x288 with 2 Axes>"
      ]
     },
     "metadata": {
      "needs_background": "light",
      "tags": []
     },
     "output_type": "display_data"
    }
   ],
   "source": [
    "lg = LogisticRegression()\n",
    "lg.fit(X_train, y_train)\n",
    "model_Evaluate(lg)"
   ]
  },
  {
   "cell_type": "markdown",
   "metadata": {
    "id": "r8Dj4l5E8abl"
   },
   "source": [
    "**Observation**\n",
    "\n",
    "- <font color=green>Performs quite good in detecting the True Positives and True Negatives.\n",
    "- This Model did not overfit or underfit.</font>\n",
    "- Can be concluded to be one of the best choice when it comes to binary classification."
   ]
  },
  {
   "cell_type": "markdown",
   "metadata": {
    "id": "tJ2K6J3X9aBM"
   },
   "source": [
    "### Linear Support Vector Classification.\n",
    "\n",
    "Similar to SVC with parameter kernel=’linear’, but implemented in terms of liblinear rather than libsvm, so it has more flexibility in the choice of penalties and loss functions and should scale better to large numbers of samples.\n",
    "\n",
    "This class supports both dense and sparse input and the multiclass support is handled according to a one-vs-the-rest scheme.\n",
    "\n",
    "To read more: https://www.kaggle.com/xingewang/the-math-behind-linear-svc-classifier"
   ]
  },
  {
   "cell_type": "code",
   "execution_count": 38,
   "metadata": {
    "colab": {
     "base_uri": "https://localhost:8080/",
     "height": 589
    },
    "id": "WlCGVtS6vGnW",
    "outputId": "6c4a7802-d6dd-4a8c-f4bc-3c39aa34a37e"
   },
   "outputs": [
    {
     "name": "stdout",
     "output_type": "stream",
     "text": [
      "Accuracy of model on training data : 95.66796875\n",
      "Accuracy of model on testing data : 83.9765625 \n",
      "\n",
      "              precision    recall  f1-score   support\n",
      "\n",
      "           0       0.84      0.84      0.84      6460\n",
      "           1       0.84      0.84      0.84      6340\n",
      "\n",
      "    accuracy                           0.84     12800\n",
      "   macro avg       0.84      0.84      0.84     12800\n",
      "weighted avg       0.84      0.84      0.84     12800\n",
      "\n",
      "[[5444 1016]\n",
      " [1035 5305]]\n"
     ]
    },
    {
     "data": {
      "image/png": "[encoded data removed]",
      "text/plain": [
       "<Figure size 432x288 with 2 Axes>"
      ]
     },
     "metadata": {
      "needs_background": "light",
      "tags": []
     },
     "output_type": "display_data"
    }
   ],
   "source": [
    "svm = LinearSVC()\n",
    "svm.fit(X_train, y_train)\n",
    "model_Evaluate(svm)"
   ]
  },
  {
   "cell_type": "markdown",
   "metadata": {
    "id": "BUjaX3wY9-vO"
   },
   "source": [
    "**Observation**\n",
    "\n",
    "- <font color=green>Performs quite good in detecting the True Positives and True Negatives.</font>\n",
    "- <font color=orange>This Model has a slight tendency to overfit.</font>\n",
    "- Definitely a true competitor of Logistic Regression."
   ]
  },
  {
   "cell_type": "markdown",
   "metadata": {
    "id": "0hYqviqh-9qb"
   },
   "source": [
    "### Random Forest Classifier.\n",
    "\n",
    "A random forest is a meta estimator that fits a number of decision tree classifiers on various sub-samples of the dataset and uses averaging to improve the predictive accuracy and control over-fitting. The sub-sample size is controlled with the max_samples parameter if bootstrap=True (default), otherwise the whole dataset is used to build each tree."
   ]
  },
  {
   "cell_type": "code",
   "execution_count": 39,
   "metadata": {
    "colab": {
     "base_uri": "https://localhost:8080/",
     "height": 589
    },
    "id": "pePWU-O8wwZf",
    "outputId": "76ea928f-f829-4497-882b-a5f60584e669"
   },
   "outputs": [
    {
     "name": "stdout",
     "output_type": "stream",
     "text": [
      "Accuracy of model on training data : 90.6953125\n",
      "Accuracy of model on testing data : 74.9765625 \n",
      "\n",
      "              precision    recall  f1-score   support\n",
      "\n",
      "           0       0.75      0.75      0.75      6460\n",
      "           1       0.75      0.75      0.75      6340\n",
      "\n",
      "    accuracy                           0.75     12800\n",
      "   macro avg       0.75      0.75      0.75     12800\n",
      "weighted avg       0.75      0.75      0.75     12800\n",
      "\n",
      "[[4869 1591]\n",
      " [1612 4728]]\n"
     ]
    },
    {
     "data": {
      "image/png": "[encoded data removed]",
      "text/plain": [
       "<Figure size 432x288 with 2 Axes>"
      ]
     },
     "metadata": {
      "needs_background": "light",
      "tags": []
     },
     "output_type": "display_data"
    }
   ],
   "source": [
    "rf = RandomForestClassifier(n_estimators = 20, criterion = 'entropy', max_depth=50)\n",
    "rf.fit(X_train, y_train)\n",
    "model_Evaluate(rf)"
   ]
  },
  {
   "cell_type": "markdown",
   "metadata": {
    "id": "VRM4ar32_gM6"
   },
   "source": [
    "**Observation**\n",
    "\n",
    "- <font color=orange>Does not perform too good in detecting the True Positives and True Negatives.</font>\n",
    "- <font color=red>This Model has a high tendency to overfit.</font>"
   ]
  },
  {
   "cell_type": "markdown",
   "metadata": {
    "id": "c9BDkiJtAMKB"
   },
   "source": [
    "### Naive Bayes\n",
    "\n",
    "In statistics, naive Bayes classifiers are a family of simple \"probabilistic classifiers\" based on applying Bayes' theorem with strong (naïve) independence assumptions between the features (see Bayes classifier). They are among the simplest Bayesian network models, but coupled with kernel density estimation, they can achieve higher accuracy levels."
   ]
  },
  {
   "cell_type": "code",
   "execution_count": 40,
   "metadata": {
    "colab": {
     "base_uri": "https://localhost:8080/",
     "height": 589
    },
    "id": "DnUGd2ZVwzlh",
    "outputId": "62affa79-fd31-4cc2-e9dd-45f19fbe8e81"
   },
   "outputs": [
    {
     "name": "stdout",
     "output_type": "stream",
     "text": [
      "Accuracy of model on training data : 71.306640625\n",
      "Accuracy of model on testing data : 66.546875 \n",
      "\n",
      "              precision    recall  f1-score   support\n",
      "\n",
      "           0       0.63      0.83      0.72      6460\n",
      "           1       0.74      0.49      0.59      6340\n",
      "\n",
      "    accuracy                           0.67     12800\n",
      "   macro avg       0.69      0.66      0.65     12800\n",
      "weighted avg       0.69      0.67      0.66     12800\n",
      "\n",
      "[[5386 1074]\n",
      " [3208 3132]]\n"
     ]
    },
    {
     "data": {
      "image/png": "[encoded data removed]",
      "text/plain": [
       "<Figure size 432x288 with 2 Axes>"
      ]
     },
     "metadata": {
      "needs_background": "light",
      "tags": []
     },
     "output_type": "display_data"
    }
   ],
   "source": [
    "nb = BernoulliNB()\n",
    "nb.fit(X_train, y_train)\n",
    "model_Evaluate(nb)"
   ]
  },
  {
   "cell_type": "markdown",
   "metadata": {
    "id": "7mOMsoCIAX1x"
   },
   "source": [
    "**Observation**\n",
    "\n",
    "- <font color='green'>This Model does not overfit or underfit.</font>\n",
    "- <font color='orange'>More biased towards false negatives.</font>\n",
    "- <font color='red'>Poor performance when compared to other models, but may gain higher accuracy if coupled with kernel density estimation.</font>\n"
   ]
  },
  {
   "cell_type": "markdown",
   "metadata": {
    "id": "TXAJkIFVCKm-"
   },
   "source": [
    "### Multinomial Naive Bayes\n",
    "\n",
    "Naive Bayes classifier for multinomial models\n",
    "\n",
    "The multinomial Naive Bayes classifier is suitable for classification with discrete features (e.g., word counts for text classification). The multinomial distribution normally requires integer feature counts. However, in practice, fractional counts such as tf-idf may also work."
   ]
  },
  {
   "cell_type": "code",
   "execution_count": 41,
   "metadata": {
    "colab": {
     "base_uri": "https://localhost:8080/",
     "height": 589
    },
    "id": "AS2D1jL9w7YO",
    "outputId": "5366ff6e-866e-4cd0-b40f-9532913f5ebf"
   },
   "outputs": [
    {
     "name": "stdout",
     "output_type": "stream",
     "text": [
      "Accuracy of model on training data : 87.859375\n",
      "Accuracy of model on testing data : 80.6484375 \n",
      "\n",
      "              precision    recall  f1-score   support\n",
      "\n",
      "           0       0.88      0.72      0.79      6460\n",
      "           1       0.76      0.90      0.82      6340\n",
      "\n",
      "    accuracy                           0.81     12800\n",
      "   macro avg       0.82      0.81      0.81     12800\n",
      "weighted avg       0.82      0.81      0.80     12800\n",
      "\n",
      "[[4624 1836]\n",
      " [ 641 5699]]\n"
     ]
    },
    {
     "data": {
      "image/png": "[encoded data removed]",
      "text/plain": [
       "<Figure size 432x288 with 2 Axes>"
      ]
     },
     "metadata": {
      "needs_background": "light",
      "tags": []
     },
     "output_type": "display_data"
    }
   ],
   "source": [
    "from sklearn.naive_bayes import MultinomialNB\n",
    "nb = MultinomialNB()\n",
    "nb.fit(X_train, y_train)\n",
    "model_Evaluate(nb)"
   ]
  },
  {
   "cell_type": "markdown",
   "metadata": {
    "id": "L7hrjJ81C0wQ"
   },
   "source": [
    "**Observation**\n",
    "\n",
    "- <font color='green'>This Model does not overfit or underfit.</font>\n",
    "- <font color='orange'>Slightly biased towards false positives.</font>\n",
    "- Overall its a quite good model.\n"
   ]
  },
  {
   "cell_type": "markdown",
   "metadata": {
    "id": "5GKBn-L6DvpZ"
   },
   "source": [
    "### Model Saving, Loading and Prediction "
   ]
  },
  {
   "cell_type": "code",
   "execution_count": 53,
   "metadata": {
    "id": "eRZnkXizxCND"
   },
   "outputs": [],
   "source": [
    "import pickle\n",
    "\n",
    "file = open('vectoriser.pickle','wb')\n",
    "pickle.dump(vector, file)\n",
    "file.close()\n",
    "\n",
    "file = open('logisticRegression.pickle','wb')\n",
    "pickle.dump(lg, file)\n",
    "file.close()\n",
    "\n",
    "file = open('SVM.pickle','wb')\n",
    "pickle.dump(svm, file)\n",
    "file.close()\n",
    "\n",
    "file = open('RandomForest.pickle','wb')\n",
    "pickle.dump(rf, file)\n",
    "file.close()\n",
    "\n",
    "file = open('NaivesBayes.pickle','wb')\n",
    "pickle.dump(nb, file)\n",
    "file.close()"
   ]
  },
  {
   "cell_type": "markdown",
   "metadata": {
    "id": "R4_Kkt8eF1s4"
   },
   "source": [
    "**Conclusion**\n",
    "\n",
    "We can use the Logistic Regression for most cases and it will yeild good results."
   ]
  },
  {
   "cell_type": "markdown",
   "metadata": {
    "id": "SXzEzHShD8bn"
   },
   "source": [
    "### Predict using saved model"
   ]
  },
  {
   "cell_type": "code",
   "execution_count": 54,
   "metadata": {
    "id": "QcDjMtgiDz16"
   },
   "outputs": [],
   "source": [
    "def load_models():\n",
    "    # Load the vectoriser.\n",
    "    file = open('vectoriser.pickle', 'rb')\n",
    "    vectoriser = pickle.load(file)\n",
    "    file.close()\n",
    "    # Load the LR Model.\n",
    "    file = open('logisticRegression.pickle', 'rb')\n",
    "    lg = pickle.load(file)\n",
    "    file.close()\n",
    "    return vectoriser, lg"
   ]
  },
  {
   "cell_type": "code",
   "execution_count": 55,
   "metadata": {
    "id": "f0hR6rCOEGzS"
   },
   "outputs": [],
   "source": [
    "def predict(vectoriser, model, text):\n",
    "    # Predict the sentiment\n",
    "    processes_text=[process_reviews(sen) for sen in text]\n",
    "    textdata = vectoriser.transform(processes_text)\n",
    "    sentiment = model.predict(textdata)\n",
    "    \n",
    "    # Make a list of text with sentiment.\n",
    "    data = []\n",
    "    for text, pred in zip(text, sentiment):\n",
    "        data.append((text,pred))\n",
    "    # Convert the list into a Pandas DataFrame.\n",
    "    df = pd.DataFrame(data, columns = ['text','sentiment'])\n",
    "    df = df.replace([0,1], [\"Negative\",\"Positive\"])\n",
    "    return df"
   ]
  },
  {
   "cell_type": "markdown",
   "metadata": {
    "id": "7awRMzCdGJyx"
   },
   "source": [
    "Lets see how the model performs when we say something sarcastically."
   ]
  },
  {
   "cell_type": "code",
   "execution_count": 59,
   "metadata": {
    "colab": {
     "base_uri": "https://localhost:8080/"
    },
    "id": "H0y2j83AEfk1",
    "outputId": "472f80c5-cb5b-4fd7-f643-195a44141519"
   },
   "outputs": [
    {
     "name": "stdout",
     "output_type": "stream",
     "text": [
      "                                                text sentiment\n",
      "0  Such an amazing trimmer. It is a must buy for ...  Positive\n",
      "1  Absolute garbage. Do not buy this, I would giv...  Negative\n",
      "2  Definitely worth it if you can sell one of you...  Positive\n"
     ]
    }
   ],
   "source": [
    "if __name__==\"__main__\":\n",
    "    # Loading the models.\n",
    "    vectoriser, lg = load_models()\n",
    "    \n",
    "    # Text to classify should be in a list.\n",
    "    text = [\"Such an amazing trimmer. It is a must buy for anyone who is thinking to buy a trimmer. It is a multipurpose trimmer which has got 10 modes with custom settings. Completely satisfied with the purchase.\",\n",
    "            \"Absolute garbage. Do not buy this, I would give this zero star if possible.\",\n",
    "            \"Definitely worth it if you can sell one of your kidney to afford it. The price makes it really unique from all other products.\"]\n",
    "    \n",
    "    df = predict(vectoriser, lg, text)\n",
    "    print(df.head())"
   ]
  },
  {
   "cell_type": "markdown",
   "metadata": {
    "id": "QZ2RlRuoGkyi"
   },
   "source": [
    "**As expected Machines will never understand Sarcasm :P**\n",
    "\n",
    "If we don't care about sarcastic reviews we can definitely expect Logistic Regression to serve our purpose."
   ]
  },
  {
   "cell_type": "markdown",
   "metadata": {
    "id": "o4JCEiLdG-wg"
   },
   "source": [
    "### Future Work\n",
    "\n",
    "- Training using RNN (Deep Learning).\n",
    "- Trying to handle sarcastic reviews.\n",
    "- Trying to resolve overfitting, which we found in some models.\n",
    "- Trying sentiment analysis on multiple class (for example Positive, Neutral, Negative)."
   ]
  },
  {
   "cell_type": "code",
   "execution_count": null,
   "metadata": {
    "id": "wBKP0L78Flv5"
   },
   "outputs": [],
   "source": []
  }
 ],
 "metadata": {
  "colab": {
   "name": "Amazon_health_personal_care_sentiement_analysis.ipynb",
   "provenance": [],
   "toc_visible": true
  },
  "kernelspec": {
   "display_name": "Python 3",
   "language": "python",
   "name": "python3"
  },
  "language_info": {
   "codemirror_mode": {
    "name": "ipython",
    "version": 3
   },
   "file_extension": ".py",
   "mimetype": "text/x-python",
   "name": "python",
   "nbconvert_exporter": "python",
   "pygments_lexer": "ipython3",
   "version": "3.7.4"
  }
 },
 "nbformat": 4,
 "nbformat_minor": 1
}
